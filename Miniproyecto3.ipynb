{
  "nbformat": 4,
  "nbformat_minor": 0,
  "metadata": {
    "colab": {
      "provenance": [],
      "gpuType": "T4"
    },
    "kernelspec": {
      "name": "python3",
      "display_name": "Python 3"
    },
    "language_info": {
      "name": "python"
    },
    "accelerator": "GPU"
  },
  "cells": [
    {
      "cell_type": "code",
      "execution_count": null,
      "metadata": {
        "colab": {
          "base_uri": "https://localhost:8080/",
          "height": 90
        },
        "id": "3coTG_JBNkl1",
        "outputId": "b418ac2a-7e7e-4d67-b696-79af93ce0c24"
      },
      "outputs": [
        {
          "output_type": "display_data",
          "data": {
            "text/plain": [
              "<IPython.core.display.HTML object>"
            ],
            "text/html": [
              "\n",
              "     <input type=\"file\" id=\"files-c57cd490-dfcc-448f-a0aa-aed3695be9f1\" name=\"files[]\" multiple disabled\n",
              "        style=\"border:none\" />\n",
              "     <output id=\"result-c57cd490-dfcc-448f-a0aa-aed3695be9f1\">\n",
              "      Upload widget is only available when the cell has been executed in the\n",
              "      current browser session. Please rerun this cell to enable.\n",
              "      </output>\n",
              "      <script>// Copyright 2017 Google LLC\n",
              "//\n",
              "// Licensed under the Apache License, Version 2.0 (the \"License\");\n",
              "// you may not use this file except in compliance with the License.\n",
              "// You may obtain a copy of the License at\n",
              "//\n",
              "//      http://www.apache.org/licenses/LICENSE-2.0\n",
              "//\n",
              "// Unless required by applicable law or agreed to in writing, software\n",
              "// distributed under the License is distributed on an \"AS IS\" BASIS,\n",
              "// WITHOUT WARRANTIES OR CONDITIONS OF ANY KIND, either express or implied.\n",
              "// See the License for the specific language governing permissions and\n",
              "// limitations under the License.\n",
              "\n",
              "/**\n",
              " * @fileoverview Helpers for google.colab Python module.\n",
              " */\n",
              "(function(scope) {\n",
              "function span(text, styleAttributes = {}) {\n",
              "  const element = document.createElement('span');\n",
              "  element.textContent = text;\n",
              "  for (const key of Object.keys(styleAttributes)) {\n",
              "    element.style[key] = styleAttributes[key];\n",
              "  }\n",
              "  return element;\n",
              "}\n",
              "\n",
              "// Max number of bytes which will be uploaded at a time.\n",
              "const MAX_PAYLOAD_SIZE = 100 * 1024;\n",
              "\n",
              "function _uploadFiles(inputId, outputId) {\n",
              "  const steps = uploadFilesStep(inputId, outputId);\n",
              "  const outputElement = document.getElementById(outputId);\n",
              "  // Cache steps on the outputElement to make it available for the next call\n",
              "  // to uploadFilesContinue from Python.\n",
              "  outputElement.steps = steps;\n",
              "\n",
              "  return _uploadFilesContinue(outputId);\n",
              "}\n",
              "\n",
              "// This is roughly an async generator (not supported in the browser yet),\n",
              "// where there are multiple asynchronous steps and the Python side is going\n",
              "// to poll for completion of each step.\n",
              "// This uses a Promise to block the python side on completion of each step,\n",
              "// then passes the result of the previous step as the input to the next step.\n",
              "function _uploadFilesContinue(outputId) {\n",
              "  const outputElement = document.getElementById(outputId);\n",
              "  const steps = outputElement.steps;\n",
              "\n",
              "  const next = steps.next(outputElement.lastPromiseValue);\n",
              "  return Promise.resolve(next.value.promise).then((value) => {\n",
              "    // Cache the last promise value to make it available to the next\n",
              "    // step of the generator.\n",
              "    outputElement.lastPromiseValue = value;\n",
              "    return next.value.response;\n",
              "  });\n",
              "}\n",
              "\n",
              "/**\n",
              " * Generator function which is called between each async step of the upload\n",
              " * process.\n",
              " * @param {string} inputId Element ID of the input file picker element.\n",
              " * @param {string} outputId Element ID of the output display.\n",
              " * @return {!Iterable<!Object>} Iterable of next steps.\n",
              " */\n",
              "function* uploadFilesStep(inputId, outputId) {\n",
              "  const inputElement = document.getElementById(inputId);\n",
              "  inputElement.disabled = false;\n",
              "\n",
              "  const outputElement = document.getElementById(outputId);\n",
              "  outputElement.innerHTML = '';\n",
              "\n",
              "  const pickedPromise = new Promise((resolve) => {\n",
              "    inputElement.addEventListener('change', (e) => {\n",
              "      resolve(e.target.files);\n",
              "    });\n",
              "  });\n",
              "\n",
              "  const cancel = document.createElement('button');\n",
              "  inputElement.parentElement.appendChild(cancel);\n",
              "  cancel.textContent = 'Cancel upload';\n",
              "  const cancelPromise = new Promise((resolve) => {\n",
              "    cancel.onclick = () => {\n",
              "      resolve(null);\n",
              "    };\n",
              "  });\n",
              "\n",
              "  // Wait for the user to pick the files.\n",
              "  const files = yield {\n",
              "    promise: Promise.race([pickedPromise, cancelPromise]),\n",
              "    response: {\n",
              "      action: 'starting',\n",
              "    }\n",
              "  };\n",
              "\n",
              "  cancel.remove();\n",
              "\n",
              "  // Disable the input element since further picks are not allowed.\n",
              "  inputElement.disabled = true;\n",
              "\n",
              "  if (!files) {\n",
              "    return {\n",
              "      response: {\n",
              "        action: 'complete',\n",
              "      }\n",
              "    };\n",
              "  }\n",
              "\n",
              "  for (const file of files) {\n",
              "    const li = document.createElement('li');\n",
              "    li.append(span(file.name, {fontWeight: 'bold'}));\n",
              "    li.append(span(\n",
              "        `(${file.type || 'n/a'}) - ${file.size} bytes, ` +\n",
              "        `last modified: ${\n",
              "            file.lastModifiedDate ? file.lastModifiedDate.toLocaleDateString() :\n",
              "                                    'n/a'} - `));\n",
              "    const percent = span('0% done');\n",
              "    li.appendChild(percent);\n",
              "\n",
              "    outputElement.appendChild(li);\n",
              "\n",
              "    const fileDataPromise = new Promise((resolve) => {\n",
              "      const reader = new FileReader();\n",
              "      reader.onload = (e) => {\n",
              "        resolve(e.target.result);\n",
              "      };\n",
              "      reader.readAsArrayBuffer(file);\n",
              "    });\n",
              "    // Wait for the data to be ready.\n",
              "    let fileData = yield {\n",
              "      promise: fileDataPromise,\n",
              "      response: {\n",
              "        action: 'continue',\n",
              "      }\n",
              "    };\n",
              "\n",
              "    // Use a chunked sending to avoid message size limits. See b/62115660.\n",
              "    let position = 0;\n",
              "    do {\n",
              "      const length = Math.min(fileData.byteLength - position, MAX_PAYLOAD_SIZE);\n",
              "      const chunk = new Uint8Array(fileData, position, length);\n",
              "      position += length;\n",
              "\n",
              "      const base64 = btoa(String.fromCharCode.apply(null, chunk));\n",
              "      yield {\n",
              "        response: {\n",
              "          action: 'append',\n",
              "          file: file.name,\n",
              "          data: base64,\n",
              "        },\n",
              "      };\n",
              "\n",
              "      let percentDone = fileData.byteLength === 0 ?\n",
              "          100 :\n",
              "          Math.round((position / fileData.byteLength) * 100);\n",
              "      percent.textContent = `${percentDone}% done`;\n",
              "\n",
              "    } while (position < fileData.byteLength);\n",
              "  }\n",
              "\n",
              "  // All done.\n",
              "  yield {\n",
              "    response: {\n",
              "      action: 'complete',\n",
              "    }\n",
              "  };\n",
              "}\n",
              "\n",
              "scope.google = scope.google || {};\n",
              "scope.google.colab = scope.google.colab || {};\n",
              "scope.google.colab._files = {\n",
              "  _uploadFiles,\n",
              "  _uploadFilesContinue,\n",
              "};\n",
              "})(self);\n",
              "</script> "
            ]
          },
          "metadata": {}
        },
        {
          "output_type": "stream",
          "name": "stdout",
          "text": [
            "Saving kaggle.json to kaggle.json\n"
          ]
        },
        {
          "output_type": "execute_result",
          "data": {
            "text/plain": [
              "{'kaggle.json': b'{\"username\":\"juandiegocastrillon\",\"key\":\"2cf61d26a0253db446a33a7d112393d2\"}'}"
            ]
          },
          "metadata": {},
          "execution_count": 5
        }
      ],
      "source": [
        "from google.colab import files\n",
        "files.upload()"
      ]
    },
    {
      "cell_type": "code",
      "source": [
        "!pip install kaggle"
      ],
      "metadata": {
        "colab": {
          "base_uri": "https://localhost:8080/"
        },
        "id": "0aCtPjunNoiD",
        "outputId": "4346a39f-959e-4a81-b0da-6e1144c6fedd"
      },
      "execution_count": null,
      "outputs": [
        {
          "output_type": "stream",
          "name": "stdout",
          "text": [
            "Requirement already satisfied: kaggle in /usr/local/lib/python3.10/dist-packages (1.6.17)\n",
            "Requirement already satisfied: six>=1.10 in /usr/local/lib/python3.10/dist-packages (from kaggle) (1.16.0)\n",
            "Requirement already satisfied: certifi>=2023.7.22 in /usr/local/lib/python3.10/dist-packages (from kaggle) (2024.8.30)\n",
            "Requirement already satisfied: python-dateutil in /usr/local/lib/python3.10/dist-packages (from kaggle) (2.8.2)\n",
            "Requirement already satisfied: requests in /usr/local/lib/python3.10/dist-packages (from kaggle) (2.32.3)\n",
            "Requirement already satisfied: tqdm in /usr/local/lib/python3.10/dist-packages (from kaggle) (4.66.6)\n",
            "Requirement already satisfied: python-slugify in /usr/local/lib/python3.10/dist-packages (from kaggle) (8.0.4)\n",
            "Requirement already satisfied: urllib3 in /usr/local/lib/python3.10/dist-packages (from kaggle) (2.2.3)\n",
            "Requirement already satisfied: bleach in /usr/local/lib/python3.10/dist-packages (from kaggle) (6.2.0)\n",
            "Requirement already satisfied: webencodings in /usr/local/lib/python3.10/dist-packages (from bleach->kaggle) (0.5.1)\n",
            "Requirement already satisfied: text-unidecode>=1.3 in /usr/local/lib/python3.10/dist-packages (from python-slugify->kaggle) (1.3)\n",
            "Requirement already satisfied: charset-normalizer<4,>=2 in /usr/local/lib/python3.10/dist-packages (from requests->kaggle) (3.4.0)\n",
            "Requirement already satisfied: idna<4,>=2.5 in /usr/local/lib/python3.10/dist-packages (from requests->kaggle) (3.10)\n"
          ]
        }
      ]
    },
    {
      "cell_type": "code",
      "source": [
        "!mkdir -p ~/.kaggle\n",
        "!cp kaggle.json ~/.kaggle/\n",
        "!chmod 600 ~/.kaggle/kaggle.json"
      ],
      "metadata": {
        "id": "fMfHj18gNqcT"
      },
      "execution_count": null,
      "outputs": []
    },
    {
      "cell_type": "code",
      "source": [
        "!kaggle datasets download -d sujallimje/plant-pathogens"
      ],
      "metadata": {
        "colab": {
          "base_uri": "https://localhost:8080/"
        },
        "id": "QB54BT4MNsDu",
        "outputId": "3076bef6-876f-4cd2-c6d5-45f879a356a3"
      },
      "execution_count": null,
      "outputs": [
        {
          "output_type": "stream",
          "name": "stdout",
          "text": [
            "Dataset URL: https://www.kaggle.com/datasets/sujallimje/plant-pathogens\n",
            "License(s): CC-BY-NC-SA-4.0\n",
            "Downloading plant-pathogens.zip to /content\n",
            "100% 23.7G/23.7G [06:17<00:00, 96.4MB/s]\n",
            "100% 23.7G/23.7G [06:17<00:00, 67.3MB/s]\n"
          ]
        }
      ]
    },
    {
      "cell_type": "code",
      "source": [
        "import os\n",
        "import random\n",
        "import zipfile\n",
        "import shutil  # Para eliminar carpetas\n",
        "import matplotlib.pyplot as plt\n",
        "import numpy as np\n",
        "import tensorflow as tf\n",
        "from PIL import Image  # Importa la biblioteca para manipular imágenes\n",
        "from tqdm import tqdm"
      ],
      "metadata": {
        "id": "9SRrX3fTNtZN"
      },
      "execution_count": null,
      "outputs": []
    },
    {
      "cell_type": "code",
      "source": [
        "# Variables de configuración\n",
        "zip_path = 'plant-pathogens.zip'\n",
        "extract_path = 'plant-pathogens'\n",
        "classes = ['bacteria', 'fungus', 'healthy']\n",
        "max_images_per_class = 10000\n",
        "train_split = 8000  # 80% de 10,000\n",
        "test_split = 2000   # 20% de 10,000\n",
        "\n",
        "# Crear directorios de train y test en la raíz\n",
        "train_dir = os.path.join(extract_path, 'train')\n",
        "test_dir = os.path.join(extract_path, 'test')\n",
        "\n",
        "# Limpiar carpetas de train y test si ya existen para evitar conflictos\n",
        "if os.path.exists(train_dir):\n",
        "    shutil.rmtree(train_dir)\n",
        "if os.path.exists(test_dir):\n",
        "    shutil.rmtree(test_dir)\n",
        "\n",
        "# Ahora, crear carpetas vacías nuevamente\n",
        "for cls in classes:\n",
        "    os.makedirs(os.path.join(train_dir, cls), exist_ok=True)\n",
        "    os.makedirs(os.path.join(test_dir, cls), exist_ok=True)\n",
        "\n",
        "# Leer el contenido del ZIP y clasificar archivos por clase\n",
        "with zipfile.ZipFile(zip_path, 'r') as zip_ref:\n",
        "    all_files = zip_ref.namelist()\n",
        "\n",
        "    # Crear diccionario para almacenar las imágenes de cada clase\n",
        "    class_files = {cls: [] for cls in classes}\n",
        "\n",
        "    # Filtrar los archivos de cada clase y limitar a 10,000 imágenes si es necesario\n",
        "    for file in all_files:\n",
        "        for cls in classes:\n",
        "            if f\"/{cls}/\" in file and file.lower().endswith(('.jpg', '.jpeg', '.png')):\n",
        "                class_files[cls].append(file)\n",
        "\n",
        "    # Asegurarse de que cada clase tenga exactamente 10,000 imágenes (o menos si no hay suficientes)\n",
        "    for cls in classes:\n",
        "        if len(class_files[cls]) > max_images_per_class:\n",
        "            class_files[cls] = random.sample(class_files[cls], max_images_per_class)\n",
        "\n",
        "# Extraer y dividir las imágenes entre entrenamiento y prueba\n",
        "with zipfile.ZipFile(zip_path, 'r') as zip_ref:\n",
        "    for cls, files in class_files.items():\n",
        "        print(f\"Procesando clase '{cls}' con {len(files)} imágenes seleccionadas.\")\n",
        "\n",
        "        # Comprobar si hay exactamente 10,000 imágenes en la clase\n",
        "        if len(files) != max_images_per_class:\n",
        "            print(f\"Advertencia: La clase '{cls}' no tiene exactamente 10,000 imágenes (tiene {len(files)}).\")\n",
        "\n",
        "        # Dividir en 8,000 para train y 2,000 para test\n",
        "        train_files = files[:train_split]\n",
        "        test_files = files[train_split:train_split + test_split]\n",
        "\n",
        "        # Extraer y mover archivos a los directorios correspondientes\n",
        "        print(f\"Extrayendo {len(train_files)} imágenes de entrenamiento y {len(test_files)} de prueba para '{cls}'...\")\n",
        "\n",
        "        # Extraer imágenes de entrenamiento\n",
        "        for file in tqdm(train_files, desc=f\"Descomprimiendo {cls} - train\"):\n",
        "            zip_ref.extract(file, extract_path)\n",
        "            os.rename(os.path.join(extract_path, file), os.path.join(train_dir, cls, os.path.basename(file)))\n",
        "\n",
        "        # Extraer imágenes de prueba\n",
        "        for file in tqdm(test_files, desc=f\"Descomprimiendo {cls} - test\"):\n",
        "            zip_ref.extract(file, extract_path)\n",
        "            os.rename(os.path.join(extract_path, file), os.path.join(test_dir, cls, os.path.basename(file)))\n",
        "\n",
        "print(\"Organización y descompresión completadas.\")\n"
      ],
      "metadata": {
        "colab": {
          "base_uri": "https://localhost:8080/"
        },
        "id": "VXmRwbAjNuwz",
        "outputId": "ec9717b5-a49d-4311-e39a-bfea2abbebbc"
      },
      "execution_count": null,
      "outputs": [
        {
          "output_type": "stream",
          "name": "stdout",
          "text": [
            "Procesando clase 'bacteria' con 10000 imágenes seleccionadas.\n",
            "Extrayendo 8000 imágenes de entrenamiento y 2000 de prueba para 'bacteria'...\n"
          ]
        },
        {
          "output_type": "stream",
          "name": "stderr",
          "text": [
            "Descomprimiendo bacteria - train: 100%|██████████| 8000/8000 [00:26<00:00, 299.52it/s]\n",
            "Descomprimiendo bacteria - test: 100%|██████████| 2000/2000 [00:02<00:00, 771.63it/s]\n"
          ]
        },
        {
          "output_type": "stream",
          "name": "stdout",
          "text": [
            "Procesando clase 'fungus' con 10000 imágenes seleccionadas.\n",
            "Extrayendo 8000 imágenes de entrenamiento y 2000 de prueba para 'fungus'...\n"
          ]
        },
        {
          "output_type": "stream",
          "name": "stderr",
          "text": [
            "Descomprimiendo fungus - train: 100%|██████████| 8000/8000 [00:32<00:00, 248.71it/s]\n",
            "Descomprimiendo fungus - test: 100%|██████████| 2000/2000 [00:06<00:00, 307.06it/s]\n"
          ]
        },
        {
          "output_type": "stream",
          "name": "stdout",
          "text": [
            "Procesando clase 'healthy' con 10000 imágenes seleccionadas.\n",
            "Extrayendo 8000 imágenes de entrenamiento y 2000 de prueba para 'healthy'...\n"
          ]
        },
        {
          "output_type": "stream",
          "name": "stderr",
          "text": [
            "Descomprimiendo healthy - train: 100%|██████████| 8000/8000 [00:27<00:00, 289.59it/s]\n",
            "Descomprimiendo healthy - test: 100%|██████████| 2000/2000 [00:07<00:00, 258.11it/s]"
          ]
        },
        {
          "output_type": "stream",
          "name": "stdout",
          "text": [
            "Organización y descompresión completadas.\n"
          ]
        },
        {
          "output_type": "stream",
          "name": "stderr",
          "text": [
            "\n"
          ]
        }
      ]
    },
    {
      "cell_type": "code",
      "source": [
        "# Verificación de la cantidad de imágenes en cada clase\n",
        "def count_images_in_dir(dir_path):\n",
        "    return len([file for file in os.listdir(dir_path) if file.lower().endswith(('.jpg', '.jpeg', '.png'))])\n",
        "\n",
        "# Validación de la estructura y conteo de imágenes\n",
        "for cls in classes:\n",
        "    train_class_dir = os.path.join(train_dir, cls)\n",
        "    test_class_dir = os.path.join(test_dir, cls)\n",
        "\n",
        "    if os.path.exists(train_class_dir) and os.path.exists(test_class_dir):\n",
        "        print(f\"Clase '{cls}': directorios de train y test encontrados.\")\n",
        "\n",
        "        # Contar imágenes en train y test\n",
        "        train_count = count_images_in_dir(train_class_dir)\n",
        "        test_count = count_images_in_dir(test_class_dir)\n",
        "\n",
        "        # Validar la cantidad de imágenes\n",
        "        total_count = train_count + test_count\n",
        "        if total_count == 0:\n",
        "            print(f\"  Advertencia: No se encontraron imágenes para la clase '{cls}'.\")\n",
        "        else:\n",
        "            train_ratio = train_count / total_count\n",
        "            test_ratio = test_count / total_count\n",
        "            print(f\"  Total de imágenes: {total_count}\")\n",
        "            print(f\"  Imágenes en train: {train_count} ({train_ratio:.2%})\")\n",
        "            print(f\"  Imágenes en test: {test_count} ({test_ratio:.2%})\")\n",
        "\n",
        "            # Validar las proporciones\n",
        "            if abs(train_ratio - 0.8) < 0.01 and abs(test_ratio - 0.2) < 0.01:\n",
        "                print(\"  Las proporciones de train/test están dentro del rango esperado.\")\n",
        "            else:\n",
        "                print(\"  Advertencia: Las proporciones de train/test no coinciden con el 80/20 esperado.\")\n",
        "    else:\n",
        "        print(f\"Advertencia: Faltan carpetas de train o test para la clase '{cls}'.\")\n"
      ],
      "metadata": {
        "colab": {
          "base_uri": "https://localhost:8080/"
        },
        "id": "eDxEM4l9NxBG",
        "outputId": "22d2f28c-ba03-4d88-bb16-8c66623d5049"
      },
      "execution_count": null,
      "outputs": [
        {
          "output_type": "stream",
          "name": "stdout",
          "text": [
            "Clase 'bacteria': directorios de train y test encontrados.\n",
            "  Total de imágenes: 10000\n",
            "  Imágenes en train: 8000 (80.00%)\n",
            "  Imágenes en test: 2000 (20.00%)\n",
            "  Las proporciones de train/test están dentro del rango esperado.\n",
            "Clase 'fungus': directorios de train y test encontrados.\n",
            "  Total de imágenes: 10000\n",
            "  Imágenes en train: 8000 (80.00%)\n",
            "  Imágenes en test: 2000 (20.00%)\n",
            "  Las proporciones de train/test están dentro del rango esperado.\n",
            "Clase 'healthy': directorios de train y test encontrados.\n",
            "  Total de imágenes: 10000\n",
            "  Imágenes en train: 8000 (80.00%)\n",
            "  Imágenes en test: 2000 (20.00%)\n",
            "  Las proporciones de train/test están dentro del rango esperado.\n"
          ]
        }
      ]
    },
    {
      "cell_type": "code",
      "source": [
        "# Limpieza de carpetas adicionales si existen\n",
        "base_path = 'plant-pathogens'\n",
        "additional_paths = ['images', 'pathogen', 'filtered_dataset']\n",
        "\n",
        "# Eliminar las carpetas especificadas si existen\n",
        "for folder in additional_paths:\n",
        "    folder_path = os.path.join(base_path, folder)\n",
        "    if os.path.exists(folder_path):\n",
        "        shutil.rmtree(folder_path)\n",
        "        print(f\"Carpeta '{folder}' eliminada exitosamente.\")\n",
        "    else:\n",
        "        print(f\"Carpeta '{folder}' no encontrada, no se requiere eliminación.\")\n",
        "\n",
        "print(\"Limpieza completada.\")"
      ],
      "metadata": {
        "colab": {
          "base_uri": "https://localhost:8080/"
        },
        "id": "AiNuAgsQNzJa",
        "outputId": "c6701c46-a301-4c7a-b23e-f5aa183f8724"
      },
      "execution_count": null,
      "outputs": [
        {
          "output_type": "stream",
          "name": "stdout",
          "text": [
            "Carpeta 'images' no encontrada, no se requiere eliminación.\n",
            "Carpeta 'pathogen' eliminada exitosamente.\n",
            "Carpeta 'filtered_dataset' no encontrada, no se requiere eliminación.\n",
            "Limpieza completada.\n"
          ]
        }
      ]
    },
    {
      "cell_type": "code",
      "source": [
        "train_path = os.path.join(base_path, 'train')\n",
        "test_path = os.path.join(base_path, 'test')\n",
        "\n",
        "# Tamaño de imagen y batch\n",
        "image_size = (128, 128)\n",
        "batch_size = 16\n",
        "\n",
        "# Función de carga y normalización de imágenes\n",
        "def cargar_y_normalizar(imagen_path, etiqueta):\n",
        "    imagen = tf.io.read_file(imagen_path)  # Leer archivo de imagen\n",
        "    imagen = tf.image.decode_jpeg(imagen, channels=3)  # Decodificar imagen JPEG\n",
        "    imagen = tf.image.resize(imagen, image_size)  # Redimensionar a tamaño deseado\n",
        "    imagen = tf.cast(imagen, tf.float32) / 255.0  # Normalizar de 0-255 a 0-1\n",
        "    return imagen, etiqueta\n",
        "\n",
        "# Función para preparar datasets desde un directorio\n",
        "def crear_dataset(directorio):\n",
        "    clases = os.listdir(directorio)\n",
        "    imagenes = []\n",
        "    etiquetas = []\n",
        "\n",
        "    for etiqueta, clase in enumerate(clases):\n",
        "        clase_dir = os.path.join(directorio, clase)\n",
        "        if os.path.isdir(clase_dir):\n",
        "            for imagen_nombre in os.listdir(clase_dir):\n",
        "                imagen_path = os.path.join(clase_dir, imagen_nombre)\n",
        "                imagenes.append(imagen_path)\n",
        "                etiquetas.append(etiqueta)\n",
        "\n",
        "    # Mezcla las listas de imágenes y etiquetas de manera sincronizada\n",
        "    data = list(zip(imagenes, etiquetas))\n",
        "    random.shuffle(data)\n",
        "    imagenes, etiquetas = zip(*data)  # Volver a dividir las listas mezcladas\n",
        "\n",
        "    # Crear el dataset a partir de las rutas y etiquetas\n",
        "    dataset = tf.data.Dataset.from_tensor_slices((list(imagenes), list(etiquetas)))\n",
        "    dataset = dataset.map(cargar_y_normalizar, num_parallel_calls=tf.data.AUTOTUNE)\n",
        "    return dataset\n",
        "\n",
        "# Crear y preprocesar los datasets de entrenamiento y prueba\n",
        "train_dataset = crear_dataset(train_path)\n",
        "test_dataset = crear_dataset(test_path)\n",
        "\n",
        "# Configurar batch, cache, y prefetch para optimizar el rendimiento\n",
        "train_dataset = train_dataset.cache().shuffle(5000).batch(batch_size).prefetch(tf.data.AUTOTUNE)\n",
        "test_dataset = test_dataset.cache().batch(batch_size).prefetch(tf.data.AUTOTUNE)\n",
        "\n",
        "# Verificar el tamaño de un lote para entrenamiento y prueba\n",
        "for image_batch, label_batch in train_dataset.take(1):\n",
        "    print(\"Shape of training images:\", image_batch.shape)\n",
        "    print(\"Shape of training labels:\", label_batch.shape)\n",
        "\n",
        "for image_batch, label_batch in test_dataset.take(1):\n",
        "    print(\"Shape of test images:\", image_batch.shape)\n",
        "    print(\"Shape of test labels:\", label_batch.shape)\n",
        "\n",
        "# `train_dataset` y `test_dataset` están listos y optimizados para entrenar en una red.\n"
      ],
      "metadata": {
        "colab": {
          "base_uri": "https://localhost:8080/"
        },
        "id": "hWZG2UUQN1RB",
        "outputId": "9a206162-e1e6-4641-da05-ac1a50ded10d"
      },
      "execution_count": null,
      "outputs": [
        {
          "output_type": "stream",
          "name": "stdout",
          "text": [
            "Shape of training images: (16, 128, 128, 3)\n",
            "Shape of training labels: (16,)\n",
            "Shape of test images: (16, 128, 128, 3)\n",
            "Shape of test labels: (16,)\n"
          ]
        }
      ]
    },
    {
      "cell_type": "code",
      "source": [
        "# Tomar algunos lotes y mostrar las etiquetas\n",
        "for image_batch, label_batch in test_dataset.take(5):\n",
        "    print(\"Etiquetas en el lote:\", label_batch.numpy())\n"
      ],
      "metadata": {
        "colab": {
          "base_uri": "https://localhost:8080/"
        },
        "id": "mF9ZbwwwN6kl",
        "outputId": "8e30acac-0048-4c06-f8e5-3d1f89713195"
      },
      "execution_count": null,
      "outputs": [
        {
          "output_type": "stream",
          "name": "stdout",
          "text": [
            "Etiquetas en el lote: [2 0 1 1 0 2 1 1 0 2 0 2 1 1 1 2]\n",
            "Etiquetas en el lote: [1 1 0 2 0 0 1 2 2 2 0 1 1 1 2 2]\n",
            "Etiquetas en el lote: [1 0 2 0 2 1 2 1 1 0 2 1 1 1 1 2]\n",
            "Etiquetas en el lote: [1 2 2 2 1 2 2 1 2 2 1 0 1 1 2 0]\n",
            "Etiquetas en el lote: [2 2 0 2 2 2 0 1 0 0 0 0 2 1 1 1]\n"
          ]
        }
      ]
    },
    {
      "cell_type": "code",
      "source": [
        "import tensorflow as tf\n",
        "import tensorflow_hub as hub\n",
        "import seaborn as sns\n",
        "from sklearn.metrics import confusion_matrix, classification_report\n",
        "from tensorflow.keras.applications.mobilenet_v2 import preprocess_input\n",
        "from tensorflow.keras import layers as tfl"
      ],
      "metadata": {
        "id": "S2PzIST9N8ts"
      },
      "execution_count": null,
      "outputs": []
    },
    {
      "cell_type": "code",
      "source": [
        "# Cargar el modelo MobileNetV2 desde TensorFlow Hub\n",
        "mobilenet_v2_url = \"https://tfhub.dev/google/tf2-preview/mobilenet_v2/feature_vector/4\"  # Para feature extraction\n",
        "IMAGE_SHAPE = (128, 128)"
      ],
      "metadata": {
        "id": "ASo6L2bkOBPx"
      },
      "execution_count": null,
      "outputs": []
    },
    {
      "cell_type": "code",
      "source": [
        "# Función que define el modelo para clasificación de tres clases basado en MobileNetV2\n",
        "def hojas_model(image_shape=IMAGE_SHAPE, num_classes=3, data_augmentation=None):\n",
        "    '''Define un modelo tf.keras para clasificación con MobileNetV2 como base.\n",
        "    Arguments:\n",
        "        image_shape -- tupla, dimensiones de entrada de las imágenes (default: (128, 128))\n",
        "        num_classes -- int, número de clases para clasificación (default: 3)\n",
        "        data_augmentation -- función o capa de aumentación de datos (default: None)\n",
        "    Returns:\n",
        "        tf.keras.Model\n",
        "    '''\n",
        "    input_shape = image_shape + (3,) # Forma de entrada para imágenes RGB\n",
        "\n",
        "    # Cargar el modelo base MobileNetV2 preentrenado en ImageNet y congelar sus pesos\n",
        "    base_model = tf.keras.applications.MobileNetV2(input_shape=input_shape,\n",
        "                                                   include_top=False,  # Quitar la capa superior\n",
        "                                                   weights='imagenet')\n",
        "    base_model.trainable = True  # Congela el modelo base para que sus capas no se entrenen\n",
        "\n",
        "\n",
        "    # Capa de entrada\n",
        "    inputs = tf.keras.Input(shape=input_shape)\n",
        "\n",
        "    # Aumentación de datos, si se proporciona\n",
        "    x = data_augmentation(inputs) if data_augmentation else inputs\n",
        "\n",
        "    # Preprocesamiento específico de MobileNetV2\n",
        "    x = preprocess_input(x)\n",
        "\n",
        "    # Paso por el modelo base\n",
        "    x = base_model(x, training=False)\n",
        "\n",
        "    # Pooling global para reducir las dimensiones y regularización con Dropout\n",
        "    x = tf.keras.layers.GlobalAveragePooling2D()(x)\n",
        "    x = tfl.Dropout(0.5)(x)  # Aumentar Dropout\n",
        "    x = tf.keras.layers.Dense(128, activation='relu', kernel_regularizer=tf.keras.regularizers.l2(0.01))(x)\n",
        "    x = tfl.Dropout(0.3)(x)  # Añadir un segundo Dropout\n",
        "    prediction_layer = tf.keras.layers.Dense(num_classes, activation='softmax', kernel_regularizer=tf.keras.regularizers.l2(0.01))\n",
        "\n",
        "    # Definir la salida\n",
        "    outputs = prediction_layer(x)\n",
        "\n",
        "    # Crear el modelo\n",
        "    model = tf.keras.Model(inputs, outputs)\n",
        "\n",
        "    return model, base_model\n",
        "\n",
        "# Resumen del modelo\n",
        "#model.summary()"
      ],
      "metadata": {
        "id": "LYWnVMjQOEZs"
      },
      "execution_count": null,
      "outputs": []
    },
    {
      "cell_type": "code",
      "source": [
        "model2, base_model = hojas_model(IMAGE_SHAPE, data_augmentation=None)"
      ],
      "metadata": {
        "colab": {
          "base_uri": "https://localhost:8080/"
        },
        "id": "z43tUAjmOFMD",
        "outputId": "2a6204e2-c39c-4aff-c7ca-4f7cda8d5594"
      },
      "execution_count": null,
      "outputs": [
        {
          "output_type": "stream",
          "name": "stdout",
          "text": [
            "Downloading data from https://storage.googleapis.com/tensorflow/keras-applications/mobilenet_v2/mobilenet_v2_weights_tf_dim_ordering_tf_kernels_1.0_128_no_top.h5\n",
            "\u001b[1m9406464/9406464\u001b[0m \u001b[32m━━━━━━━━━━━━━━━━━━━━\u001b[0m\u001b[37m\u001b[0m \u001b[1m0s\u001b[0m 0us/step\n"
          ]
        }
      ]
    },
    {
      "cell_type": "code",
      "source": [
        "# Crear y compilar el modelo\n",
        "#model = hojas_model(image_shape=IMAGE_SHAPE, num_classes=3, data_augmentation=None)\n",
        "model2.compile(optimizer=tf.keras.optimizers.Adam(learning_rate=0.0001),\n",
        "              loss=tf.keras.losses.SparseCategoricalCrossentropy(),  # Cambiado para clasificación de 3 clases\n",
        "              metrics=['accuracy'])\n",
        "\n",
        "# Entrenamiento del modelo\n",
        "reduce_lr = tf.keras.callbacks.ReduceLROnPlateau(monitor='val_loss', factor=0.5, patience=2, min_lr=1e-6)\n",
        "history = model2.fit(train_dataset, validation_data=test_dataset, epochs=15, callbacks=[reduce_lr])"
      ],
      "metadata": {
        "colab": {
          "base_uri": "https://localhost:8080/"
        },
        "id": "4Se2fxhZOHNa",
        "outputId": "0a8cedc4-c32f-40aa-c1b2-6832b9ba2791"
      },
      "execution_count": null,
      "outputs": [
        {
          "output_type": "stream",
          "name": "stdout",
          "text": [
            "Epoch 1/15\n",
            "\u001b[1m1500/1500\u001b[0m \u001b[32m━━━━━━━━━━━━━━━━━━━━\u001b[0m\u001b[37m\u001b[0m \u001b[1m366s\u001b[0m 184ms/step - accuracy: 0.7067 - loss: 2.8358 - val_accuracy: 0.3130 - val_loss: 3.0588 - learning_rate: 1.0000e-04\n",
            "Epoch 2/15\n",
            "\u001b[1m1500/1500\u001b[0m \u001b[32m━━━━━━━━━━━━━━━━━━━━\u001b[0m\u001b[37m\u001b[0m \u001b[1m40s\u001b[0m 27ms/step - accuracy: 0.8783 - loss: 1.4879 - val_accuracy: 0.3332 - val_loss: 2.4303 - learning_rate: 1.0000e-04\n",
            "Epoch 3/15\n",
            "\u001b[1m1500/1500\u001b[0m \u001b[32m━━━━━━━━━━━━━━━━━━━━\u001b[0m\u001b[37m\u001b[0m \u001b[1m41s\u001b[0m 27ms/step - accuracy: 0.9122 - loss: 0.8093 - val_accuracy: 0.3163 - val_loss: 1.5320 - learning_rate: 1.0000e-04\n",
            "Epoch 4/15\n",
            "\u001b[1m1500/1500\u001b[0m \u001b[32m━━━━━━━━━━━━━━━━━━━━\u001b[0m\u001b[37m\u001b[0m \u001b[1m41s\u001b[0m 27ms/step - accuracy: 0.9328 - loss: 0.4455 - val_accuracy: 0.4287 - val_loss: 2.9149 - learning_rate: 1.0000e-04\n",
            "Epoch 5/15\n",
            "\u001b[1m1500/1500\u001b[0m \u001b[32m━━━━━━━━━━━━━━━━━━━━\u001b[0m\u001b[37m\u001b[0m \u001b[1m41s\u001b[0m 27ms/step - accuracy: 0.9474 - loss: 0.2802 - val_accuracy: 0.4232 - val_loss: 2.4736 - learning_rate: 1.0000e-04\n",
            "Epoch 6/15\n",
            "\u001b[1m1500/1500\u001b[0m \u001b[32m━━━━━━━━━━━━━━━━━━━━\u001b[0m\u001b[37m\u001b[0m \u001b[1m41s\u001b[0m 27ms/step - accuracy: 0.9663 - loss: 0.1790 - val_accuracy: 0.3395 - val_loss: 3.4820 - learning_rate: 5.0000e-05\n",
            "Epoch 7/15\n",
            "\u001b[1m1500/1500\u001b[0m \u001b[32m━━━━━━━━━━━━━━━━━━━━\u001b[0m\u001b[37m\u001b[0m \u001b[1m41s\u001b[0m 27ms/step - accuracy: 0.9752 - loss: 0.1302 - val_accuracy: 0.4865 - val_loss: 2.0597 - learning_rate: 5.0000e-05\n",
            "Epoch 8/15\n",
            "\u001b[1m1500/1500\u001b[0m \u001b[32m━━━━━━━━━━━━━━━━━━━━\u001b[0m\u001b[37m\u001b[0m \u001b[1m43s\u001b[0m 28ms/step - accuracy: 0.9851 - loss: 0.0956 - val_accuracy: 0.8397 - val_loss: 0.5401 - learning_rate: 2.5000e-05\n",
            "Epoch 9/15\n",
            "\u001b[1m1500/1500\u001b[0m \u001b[32m━━━━━━━━━━━━━━━━━━━━\u001b[0m\u001b[37m\u001b[0m \u001b[1m79s\u001b[0m 27ms/step - accuracy: 0.9892 - loss: 0.0803 - val_accuracy: 0.7787 - val_loss: 0.7459 - learning_rate: 2.5000e-05\n",
            "Epoch 10/15\n",
            "\u001b[1m1500/1500\u001b[0m \u001b[32m━━━━━━━━━━━━━━━━━━━━\u001b[0m\u001b[37m\u001b[0m \u001b[1m40s\u001b[0m 27ms/step - accuracy: 0.9913 - loss: 0.0686 - val_accuracy: 0.7120 - val_loss: 1.4934 - learning_rate: 2.5000e-05\n",
            "Epoch 11/15\n",
            "\u001b[1m1500/1500\u001b[0m \u001b[32m━━━━━━━━━━━━━━━━━━━━\u001b[0m\u001b[37m\u001b[0m \u001b[1m41s\u001b[0m 27ms/step - accuracy: 0.9911 - loss: 0.0654 - val_accuracy: 0.8940 - val_loss: 0.4535 - learning_rate: 1.2500e-05\n",
            "Epoch 12/15\n",
            "\u001b[1m1500/1500\u001b[0m \u001b[32m━━━━━━━━━━━━━━━━━━━━\u001b[0m\u001b[37m\u001b[0m \u001b[1m41s\u001b[0m 27ms/step - accuracy: 0.9948 - loss: 0.0539 - val_accuracy: 0.8782 - val_loss: 0.5188 - learning_rate: 1.2500e-05\n",
            "Epoch 13/15\n",
            "\u001b[1m1500/1500\u001b[0m \u001b[32m━━━━━━━━━━━━━━━━━━━━\u001b[0m\u001b[37m\u001b[0m \u001b[1m40s\u001b[0m 27ms/step - accuracy: 0.9947 - loss: 0.0523 - val_accuracy: 0.7602 - val_loss: 0.9703 - learning_rate: 1.2500e-05\n",
            "Epoch 14/15\n",
            "\u001b[1m1500/1500\u001b[0m \u001b[32m━━━━━━━━━━━━━━━━━━━━\u001b[0m\u001b[37m\u001b[0m \u001b[1m40s\u001b[0m 27ms/step - accuracy: 0.9954 - loss: 0.0489 - val_accuracy: 0.9365 - val_loss: 0.2511 - learning_rate: 6.2500e-06\n",
            "Epoch 15/15\n",
            "\u001b[1m1500/1500\u001b[0m \u001b[32m━━━━━━━━━━━━━━━━━━━━\u001b[0m\u001b[37m\u001b[0m \u001b[1m41s\u001b[0m 27ms/step - accuracy: 0.9967 - loss: 0.0454 - val_accuracy: 0.9378 - val_loss: 0.2604 - learning_rate: 6.2500e-06\n"
          ]
        }
      ]
    },
    {
      "cell_type": "code",
      "source": [
        "acc = [0.] + history.history['accuracy']\n",
        "val_acc = [0.] + history.history['val_accuracy']\n",
        "\n",
        "loss = history.history['loss']\n",
        "val_loss = history.history['val_loss']\n",
        "\n",
        "plt.figure(figsize=(8, 8))\n",
        "plt.subplot(2, 1, 1)\n",
        "plt.plot(acc, label='Training Accuracy')\n",
        "plt.plot(val_acc, label='Validation Accuracy')\n",
        "plt.legend(loc='lower right')\n",
        "plt.ylabel('Accuracy')\n",
        "plt.ylim([min(plt.ylim()),1])\n",
        "plt.title('Training and Validation Accuracy')\n",
        "\n",
        "plt.subplot(2, 1, 2)\n",
        "plt.plot(loss, label='Training Loss')\n",
        "plt.plot(val_loss, label='Validation Loss')\n",
        "plt.legend(loc='upper right')\n",
        "plt.ylabel('Cross Entropy')\n",
        "plt.ylim([0,1.0])\n",
        "plt.title('Training and Validation Loss')\n",
        "plt.xlabel('epoch')\n",
        "plt.show()"
      ],
      "metadata": {
        "id": "ezsYZF4lOMxi",
        "colab": {
          "base_uri": "https://localhost:8080/",
          "height": 718
        },
        "outputId": "e4f5d689-ab84-42b2-914c-941109a84e01"
      },
      "execution_count": null,
      "outputs": [
        {
          "output_type": "display_data",
          "data": {
            "text/plain": [
              "<Figure size 800x800 with 2 Axes>"
            ],
            "image/png": "[encoded data removed]"
          },
          "metadata": {}
        }
      ]
    },
    {
      "cell_type": "code",
      "source": [
        "model2.evaluate(test_dataset)"
      ],
      "metadata": {
        "id": "Ar_8NLZ7OOdB",
        "colab": {
          "base_uri": "https://localhost:8080/"
        },
        "outputId": "4bf02845-2d31-4503-db63-1c1ff8846a20"
      },
      "execution_count": null,
      "outputs": [
        {
          "output_type": "stream",
          "name": "stdout",
          "text": [
            "\u001b[1m375/375\u001b[0m \u001b[32m━━━━━━━━━━━━━━━━━━━━\u001b[0m\u001b[37m\u001b[0m \u001b[1m3s\u001b[0m 8ms/step - accuracy: 0.9415 - loss: 0.2788\n"
          ]
        },
        {
          "output_type": "execute_result",
          "data": {
            "text/plain": [
              "[0.2604384124279022, 0.937833309173584]"
            ]
          },
          "metadata": {},
          "execution_count": 21
        }
      ]
    },
    {
      "cell_type": "code",
      "source": [
        "# 1. Obtener las predicciones del modelo en el conjunto de validación\n",
        "# Asumiendo que `test_dataset` es un tf.data.Dataset con los datos de validación\n",
        "y_pred = np.argmax(model2.predict(test_dataset), axis=-1)\n",
        "\n",
        "# 2. Obtener las etiquetas reales del conjunto de validación\n",
        "# Para extraer etiquetas, iteramos sobre el conjunto y acumulamos los valores reales\n",
        "y_true = np.concatenate([y for x, y in test_dataset], axis=0)\n",
        "\n",
        "# 3. Crear la matriz de confusión\n",
        "cm = confusion_matrix(y_true, y_pred)\n",
        "\n",
        "# 4. Visualizar la matriz de confusión\n",
        "plt.figure(figsize=(8, 6))\n",
        "sns.heatmap(cm, annot=True, fmt=\"d\", cmap=\"Blues\", xticklabels=[0, 1, 2], yticklabels=[0, 1, 2])\n",
        "plt.xlabel('Predicted Label')\n",
        "plt.ylabel('True Label')\n",
        "plt.title('Confusion Matrix')\n",
        "plt.show()\n",
        "\n",
        "# Opcional: imprimir reporte de clasificación\n",
        "print(classification_report(y_true, y_pred, target_names=['Clase 0', 'Clase 1', 'Clase 2']))\n"
      ],
      "metadata": {
        "id": "UJl8C9lqOQCs",
        "colab": {
          "base_uri": "https://localhost:8080/",
          "height": 755
        },
        "outputId": "77511a9f-62ac-482d-f1e8-ffe5b6cb74e5"
      },
      "execution_count": null,
      "outputs": [
        {
          "output_type": "stream",
          "name": "stdout",
          "text": [
            "\u001b[1m375/375\u001b[0m \u001b[32m━━━━━━━━━━━━━━━━━━━━\u001b[0m\u001b[37m\u001b[0m \u001b[1m5s\u001b[0m 6ms/step\n"
          ]
        },
        {
          "output_type": "display_data",
          "data": {
            "text/plain": [
              "<Figure size 800x600 with 2 Axes>"
            ],
            "image/png": "[encoded data removed]"
          },
          "metadata": {}
        },
        {
          "output_type": "stream",
          "name": "stdout",
          "text": [
            "              precision    recall  f1-score   support\n",
            "\n",
            "     Clase 0       0.88      0.98      0.93      2000\n",
            "     Clase 1       0.96      0.95      0.95      2000\n",
            "     Clase 2       0.98      0.89      0.93      2000\n",
            "\n",
            "    accuracy                           0.94      6000\n",
            "   macro avg       0.94      0.94      0.94      6000\n",
            "weighted avg       0.94      0.94      0.94      6000\n",
            "\n"
          ]
        }
      ]
    },
    {
      "cell_type": "code",
      "source": [
        "model2.save('miniproyecto3_model.h5')"
      ],
      "metadata": {
        "id": "V35szKxIORbh",
        "colab": {
          "base_uri": "https://localhost:8080/"
        },
        "outputId": "3018d232-ea8a-4c73-f6e8-fd7bd966687e"
      },
      "execution_count": null,
      "outputs": [
        {
          "output_type": "stream",
          "name": "stderr",
          "text": [
            "WARNING:absl:You are saving your model as an HDF5 file via `model.save()` or `keras.saving.save_model(model)`. This file format is considered legacy. We recommend using instead the native Keras format, e.g. `model.save('my_model.keras')` or `keras.saving.save_model(model, 'my_model.keras')`. \n"
          ]
        }
      ]
    },
    {
      "cell_type": "code",
      "source": [
        "model2.save('miniproyecto3_model.keras')"
      ],
      "metadata": {
        "id": "zJw9VMLyOS2y"
      },
      "execution_count": null,
      "outputs": []
    },
    {
      "cell_type": "code",
      "source": [
        "converter = tf.lite.TFLiteConverter.from_keras_model(model2)\n",
        "model2_tflite = converter.convert()\n",
        "open('miniproyecto3_model.tflite', 'wb').write(model2_tflite)"
      ],
      "metadata": {
        "id": "Eswy_aJEOUPa",
        "colab": {
          "base_uri": "https://localhost:8080/"
        },
        "outputId": "34978a54-3dc8-4daa-bb24-46d8df4d46ff"
      },
      "execution_count": null,
      "outputs": [
        {
          "output_type": "stream",
          "name": "stdout",
          "text": [
            "Saved artifact at '/tmp/tmpsi4ue6uh'. The following endpoints are available:\n",
            "\n",
            "* Endpoint 'serve'\n",
            "  args_0 (POSITIONAL_ONLY): TensorSpec(shape=(None, 128, 128, 3), dtype=tf.float32, name='keras_tensor_154')\n",
            "Output Type:\n",
            "  TensorSpec(shape=(None, 3), dtype=tf.float32, name=None)\n",
            "Captures:\n",
            "  138411408330416: TensorSpec(shape=(), dtype=tf.resource, name=None)\n",
            "  138411408332528: TensorSpec(shape=(), dtype=tf.resource, name=None)\n",
            "  138411408335168: TensorSpec(shape=(), dtype=tf.resource, name=None)\n",
            "  138411408334112: TensorSpec(shape=(), dtype=tf.resource, name=None)\n",
            "  138411408333232: TensorSpec(shape=(), dtype=tf.resource, name=None)\n",
            "  138411408339568: TensorSpec(shape=(), dtype=tf.resource, name=None)\n",
            "  138411408339216: TensorSpec(shape=(), dtype=tf.resource, name=None)\n",
            "  138411408340096: TensorSpec(shape=(), dtype=tf.resource, name=None)\n",
            "  138411408340272: TensorSpec(shape=(), dtype=tf.resource, name=None)\n",
            "  138411408341152: TensorSpec(shape=(), dtype=tf.resource, name=None)\n",
            "  138411408379216: TensorSpec(shape=(), dtype=tf.resource, name=None)\n",
            "  138411408378864: TensorSpec(shape=(), dtype=tf.resource, name=None)\n",
            "  138411408382912: TensorSpec(shape=(), dtype=tf.resource, name=None)\n",
            "  138411408380272: TensorSpec(shape=(), dtype=tf.resource, name=None)\n",
            "  138411408381152: TensorSpec(shape=(), dtype=tf.resource, name=None)\n",
            "  138411408385376: TensorSpec(shape=(), dtype=tf.resource, name=None)\n",
            "  138411408385024: TensorSpec(shape=(), dtype=tf.resource, name=None)\n",
            "  138411408388720: TensorSpec(shape=(), dtype=tf.resource, name=None)\n",
            "  138411408386080: TensorSpec(shape=(), dtype=tf.resource, name=None)\n",
            "  138411408386960: TensorSpec(shape=(), dtype=tf.resource, name=None)\n",
            "  138411408458320: TensorSpec(shape=(), dtype=tf.resource, name=None)\n",
            "  138411408458848: TensorSpec(shape=(), dtype=tf.resource, name=None)\n",
            "  138411408460960: TensorSpec(shape=(), dtype=tf.resource, name=None)\n",
            "  138411408459904: TensorSpec(shape=(), dtype=tf.resource, name=None)\n",
            "  138411408460784: TensorSpec(shape=(), dtype=tf.resource, name=None)\n",
            "  138411408465888: TensorSpec(shape=(), dtype=tf.resource, name=None)\n",
            "  138411408465536: TensorSpec(shape=(), dtype=tf.resource, name=None)\n",
            "  138411408469584: TensorSpec(shape=(), dtype=tf.resource, name=None)\n",
            "  138411408466944: TensorSpec(shape=(), dtype=tf.resource, name=None)\n",
            "  138411408467824: TensorSpec(shape=(), dtype=tf.resource, name=None)\n",
            "  138411408472048: TensorSpec(shape=(), dtype=tf.resource, name=None)\n",
            "  138411408473808: TensorSpec(shape=(), dtype=tf.resource, name=None)\n",
            "  138411408525264: TensorSpec(shape=(), dtype=tf.resource, name=None)\n",
            "  138411408472576: TensorSpec(shape=(), dtype=tf.resource, name=None)\n",
            "  138411408472224: TensorSpec(shape=(), dtype=tf.resource, name=None)\n",
            "  138411408528432: TensorSpec(shape=(), dtype=tf.resource, name=None)\n",
            "  138411408527904: TensorSpec(shape=(), dtype=tf.resource, name=None)\n",
            "  138411408327072: TensorSpec(shape=(), dtype=tf.resource, name=None)\n",
            "  138411408529136: TensorSpec(shape=(), dtype=tf.resource, name=None)\n",
            "  138411408530016: TensorSpec(shape=(), dtype=tf.resource, name=None)\n",
            "  138411411260688: TensorSpec(shape=(), dtype=tf.resource, name=None)\n",
            "  138411411261040: TensorSpec(shape=(), dtype=tf.resource, name=None)\n",
            "  138411411271248: TensorSpec(shape=(), dtype=tf.resource, name=None)\n",
            "  138411411271424: TensorSpec(shape=(), dtype=tf.resource, name=None)\n",
            "  138411411272304: TensorSpec(shape=(), dtype=tf.resource, name=None)\n",
            "  138411408533184: TensorSpec(shape=(), dtype=tf.resource, name=None)\n",
            "  138411408532832: TensorSpec(shape=(), dtype=tf.resource, name=None)\n",
            "  138411408536528: TensorSpec(shape=(), dtype=tf.resource, name=None)\n",
            "  138411408533888: TensorSpec(shape=(), dtype=tf.resource, name=None)\n",
            "  138411408534768: TensorSpec(shape=(), dtype=tf.resource, name=None)\n",
            "  138411408704960: TensorSpec(shape=(), dtype=tf.resource, name=None)\n",
            "  138411408704608: TensorSpec(shape=(), dtype=tf.resource, name=None)\n",
            "  138411408707248: TensorSpec(shape=(), dtype=tf.resource, name=None)\n",
            "  138411408706192: TensorSpec(shape=(), dtype=tf.resource, name=None)\n",
            "  138411408707072: TensorSpec(shape=(), dtype=tf.resource, name=None)\n",
            "  138411408712176: TensorSpec(shape=(), dtype=tf.resource, name=None)\n",
            "  138411408711824: TensorSpec(shape=(), dtype=tf.resource, name=None)\n",
            "  138411408715872: TensorSpec(shape=(), dtype=tf.resource, name=None)\n",
            "  138411408713232: TensorSpec(shape=(), dtype=tf.resource, name=None)\n",
            "  138411408714112: TensorSpec(shape=(), dtype=tf.resource, name=None)\n",
            "  138411408718336: TensorSpec(shape=(), dtype=tf.resource, name=None)\n",
            "  138411408769440: TensorSpec(shape=(), dtype=tf.resource, name=None)\n",
            "  138411408771552: TensorSpec(shape=(), dtype=tf.resource, name=None)\n",
            "  138411408719568: TensorSpec(shape=(), dtype=tf.resource, name=None)\n",
            "  138411408769968: TensorSpec(shape=(), dtype=tf.resource, name=None)\n",
            "  138411408774720: TensorSpec(shape=(), dtype=tf.resource, name=None)\n",
            "  138411408774192: TensorSpec(shape=(), dtype=tf.resource, name=None)\n",
            "  138411408778064: TensorSpec(shape=(), dtype=tf.resource, name=None)\n",
            "  138411408775424: TensorSpec(shape=(), dtype=tf.resource, name=None)\n",
            "  138411408776304: TensorSpec(shape=(), dtype=tf.resource, name=None)\n",
            "  138411408781408: TensorSpec(shape=(), dtype=tf.resource, name=None)\n",
            "  138411408769088: TensorSpec(shape=(), dtype=tf.resource, name=None)\n",
            "  138411408785104: TensorSpec(shape=(), dtype=tf.resource, name=None)\n",
            "  138411408782464: TensorSpec(shape=(), dtype=tf.resource, name=None)\n",
            "  138411408783344: TensorSpec(shape=(), dtype=tf.resource, name=None)\n",
            "  138411408886944: TensorSpec(shape=(), dtype=tf.resource, name=None)\n",
            "  138411408886592: TensorSpec(shape=(), dtype=tf.resource, name=None)\n",
            "  138411408890640: TensorSpec(shape=(), dtype=tf.resource, name=None)\n",
            "  138411408888000: TensorSpec(shape=(), dtype=tf.resource, name=None)\n",
            "  138411408888880: TensorSpec(shape=(), dtype=tf.resource, name=None)\n",
            "  138411408894336: TensorSpec(shape=(), dtype=tf.resource, name=None)\n",
            "  138411408888352: TensorSpec(shape=(), dtype=tf.resource, name=None)\n",
            "  138411408897680: TensorSpec(shape=(), dtype=tf.resource, name=None)\n",
            "  138411408895040: TensorSpec(shape=(), dtype=tf.resource, name=None)\n",
            "  138411408895920: TensorSpec(shape=(), dtype=tf.resource, name=None)\n",
            "  138411408966400: TensorSpec(shape=(), dtype=tf.resource, name=None)\n",
            "  138411408966928: TensorSpec(shape=(), dtype=tf.resource, name=None)\n",
            "  138411408970448: TensorSpec(shape=(), dtype=tf.resource, name=None)\n",
            "  138411408967984: TensorSpec(shape=(), dtype=tf.resource, name=None)\n",
            "  138411408968336: TensorSpec(shape=(), dtype=tf.resource, name=None)\n",
            "  138411408974144: TensorSpec(shape=(), dtype=tf.resource, name=None)\n",
            "  138411408973792: TensorSpec(shape=(), dtype=tf.resource, name=None)\n",
            "  138411408977488: TensorSpec(shape=(), dtype=tf.resource, name=None)\n",
            "  138411408974848: TensorSpec(shape=(), dtype=tf.resource, name=None)\n",
            "  138411408975728: TensorSpec(shape=(), dtype=tf.resource, name=None)\n",
            "  138411408977840: TensorSpec(shape=(), dtype=tf.resource, name=None)\n",
            "  138411409080912: TensorSpec(shape=(), dtype=tf.resource, name=None)\n",
            "  138411409082672: TensorSpec(shape=(), dtype=tf.resource, name=None)\n",
            "  138411409081968: TensorSpec(shape=(), dtype=tf.resource, name=None)\n",
            "  138411409082848: TensorSpec(shape=(), dtype=tf.resource, name=None)\n",
            "  138411409087600: TensorSpec(shape=(), dtype=tf.resource, name=None)\n",
            "  138411409087248: TensorSpec(shape=(), dtype=tf.resource, name=None)\n",
            "  138411409091296: TensorSpec(shape=(), dtype=tf.resource, name=None)\n",
            "  138411409088656: TensorSpec(shape=(), dtype=tf.resource, name=None)\n",
            "  138411409089536: TensorSpec(shape=(), dtype=tf.resource, name=None)\n",
            "  138411409093760: TensorSpec(shape=(), dtype=tf.resource, name=None)\n",
            "  138411409089360: TensorSpec(shape=(), dtype=tf.resource, name=None)\n",
            "  138411409094288: TensorSpec(shape=(), dtype=tf.resource, name=None)\n",
            "  138411409094464: TensorSpec(shape=(), dtype=tf.resource, name=None)\n",
            "  138411409095344: TensorSpec(shape=(), dtype=tf.resource, name=None)\n",
            "  138411409133760: TensorSpec(shape=(), dtype=tf.resource, name=None)\n",
            "  138411409133232: TensorSpec(shape=(), dtype=tf.resource, name=None)\n",
            "  138411409137104: TensorSpec(shape=(), dtype=tf.resource, name=None)\n",
            "  138411409134464: TensorSpec(shape=(), dtype=tf.resource, name=None)\n",
            "  138411409135344: TensorSpec(shape=(), dtype=tf.resource, name=None)\n",
            "  138411409140448: TensorSpec(shape=(), dtype=tf.resource, name=None)\n",
            "  138411409140096: TensorSpec(shape=(), dtype=tf.resource, name=None)\n",
            "  138411409144144: TensorSpec(shape=(), dtype=tf.resource, name=None)\n",
            "  138411409141504: TensorSpec(shape=(), dtype=tf.resource, name=None)\n",
            "  138411409142384: TensorSpec(shape=(), dtype=tf.resource, name=None)\n",
            "  138411409245984: TensorSpec(shape=(), dtype=tf.resource, name=None)\n",
            "  138411409245632: TensorSpec(shape=(), dtype=tf.resource, name=None)\n",
            "  138411409249680: TensorSpec(shape=(), dtype=tf.resource, name=None)\n",
            "  138411409247040: TensorSpec(shape=(), dtype=tf.resource, name=None)\n",
            "  138411409247920: TensorSpec(shape=(), dtype=tf.resource, name=None)\n",
            "  138411409253376: TensorSpec(shape=(), dtype=tf.resource, name=None)\n",
            "  138411409252848: TensorSpec(shape=(), dtype=tf.resource, name=None)\n",
            "  138411409256720: TensorSpec(shape=(), dtype=tf.resource, name=None)\n",
            "  138411409254080: TensorSpec(shape=(), dtype=tf.resource, name=None)\n",
            "  138411409254960: TensorSpec(shape=(), dtype=tf.resource, name=None)\n",
            "  138411409259184: TensorSpec(shape=(), dtype=tf.resource, name=None)\n",
            "  138411406216528: TensorSpec(shape=(), dtype=tf.resource, name=None)\n",
            "  138411406213888: TensorSpec(shape=(), dtype=tf.resource, name=None)\n",
            "  138411406214240: TensorSpec(shape=(), dtype=tf.resource, name=None)\n",
            "  138411406215472: TensorSpec(shape=(), dtype=tf.resource, name=None)\n",
            "  138411406219872: TensorSpec(shape=(), dtype=tf.resource, name=None)\n",
            "  138411406219520: TensorSpec(shape=(), dtype=tf.resource, name=None)\n",
            "  138411406223568: TensorSpec(shape=(), dtype=tf.resource, name=None)\n",
            "  138411406220928: TensorSpec(shape=(), dtype=tf.resource, name=None)\n",
            "  138411406221808: TensorSpec(shape=(), dtype=tf.resource, name=None)\n",
            "  138411406227264: TensorSpec(shape=(), dtype=tf.resource, name=None)\n",
            "  138411406227440: TensorSpec(shape=(), dtype=tf.resource, name=None)\n",
            "  138411406279952: TensorSpec(shape=(), dtype=tf.resource, name=None)\n",
            "  138411406227792: TensorSpec(shape=(), dtype=tf.resource, name=None)\n",
            "  138411406226560: TensorSpec(shape=(), dtype=tf.resource, name=None)\n",
            "  138411406283296: TensorSpec(shape=(), dtype=tf.resource, name=None)\n",
            "  138411406282944: TensorSpec(shape=(), dtype=tf.resource, name=None)\n",
            "  138411406286992: TensorSpec(shape=(), dtype=tf.resource, name=None)\n",
            "  138411406284352: TensorSpec(shape=(), dtype=tf.resource, name=None)\n",
            "  138411406285232: TensorSpec(shape=(), dtype=tf.resource, name=None)\n",
            "  138411406290688: TensorSpec(shape=(), dtype=tf.resource, name=None)\n",
            "  138411406286112: TensorSpec(shape=(), dtype=tf.resource, name=None)\n",
            "  138411406294032: TensorSpec(shape=(), dtype=tf.resource, name=None)\n",
            "  138411406291392: TensorSpec(shape=(), dtype=tf.resource, name=None)\n",
            "  138411406292272: TensorSpec(shape=(), dtype=tf.resource, name=None)\n",
            "  138411406362928: TensorSpec(shape=(), dtype=tf.resource, name=None)\n",
            "  138411406362576: TensorSpec(shape=(), dtype=tf.resource, name=None)\n",
            "  138411406366800: TensorSpec(shape=(), dtype=tf.resource, name=None)\n",
            "  138411406364160: TensorSpec(shape=(), dtype=tf.resource, name=None)\n",
            "  138411406365040: TensorSpec(shape=(), dtype=tf.resource, name=None)\n",
            "  138411406370144: TensorSpec(shape=(), dtype=tf.resource, name=None)\n",
            "  138411406369792: TensorSpec(shape=(), dtype=tf.resource, name=None)\n",
            "  138411406373840: TensorSpec(shape=(), dtype=tf.resource, name=None)\n",
            "  138411406371200: TensorSpec(shape=(), dtype=tf.resource, name=None)\n",
            "  138411406372080: TensorSpec(shape=(), dtype=tf.resource, name=None)\n",
            "  138411406376304: TensorSpec(shape=(), dtype=tf.resource, name=None)\n",
            "  138411406510912: TensorSpec(shape=(), dtype=tf.resource, name=None)\n",
            "  138411406508448: TensorSpec(shape=(), dtype=tf.resource, name=None)\n",
            "  138411406509152: TensorSpec(shape=(), dtype=tf.resource, name=None)\n",
            "  138411406508096: TensorSpec(shape=(), dtype=tf.resource, name=None)\n",
            "  138411406514608: TensorSpec(shape=(), dtype=tf.resource, name=None)\n",
            "  138411406514080: TensorSpec(shape=(), dtype=tf.resource, name=None)\n",
            "  138411406517952: TensorSpec(shape=(), dtype=tf.resource, name=None)\n",
            "  138411406515312: TensorSpec(shape=(), dtype=tf.resource, name=None)\n",
            "  138411406516192: TensorSpec(shape=(), dtype=tf.resource, name=None)\n",
            "  138411406521296: TensorSpec(shape=(), dtype=tf.resource, name=None)\n",
            "  138411406508976: TensorSpec(shape=(), dtype=tf.resource, name=None)\n",
            "  138411406522176: TensorSpec(shape=(), dtype=tf.resource, name=None)\n",
            "  138411406522352: TensorSpec(shape=(), dtype=tf.resource, name=None)\n",
            "  138411406523232: TensorSpec(shape=(), dtype=tf.resource, name=None)\n",
            "  138411406594064: TensorSpec(shape=(), dtype=tf.resource, name=None)\n",
            "  138411406593712: TensorSpec(shape=(), dtype=tf.resource, name=None)\n",
            "  138411406597760: TensorSpec(shape=(), dtype=tf.resource, name=None)\n",
            "  138411406595120: TensorSpec(shape=(), dtype=tf.resource, name=None)\n",
            "  138411406596000: TensorSpec(shape=(), dtype=tf.resource, name=None)\n",
            "  138411406601456: TensorSpec(shape=(), dtype=tf.resource, name=None)\n",
            "  138411406592480: TensorSpec(shape=(), dtype=tf.resource, name=None)\n",
            "  138411406604800: TensorSpec(shape=(), dtype=tf.resource, name=None)\n",
            "  138411406602160: TensorSpec(shape=(), dtype=tf.resource, name=None)\n",
            "  138411406603040: TensorSpec(shape=(), dtype=tf.resource, name=None)\n",
            "  138411406723024: TensorSpec(shape=(), dtype=tf.resource, name=None)\n",
            "  138411406722672: TensorSpec(shape=(), dtype=tf.resource, name=None)\n",
            "  138411406726720: TensorSpec(shape=(), dtype=tf.resource, name=None)\n",
            "  138411406724080: TensorSpec(shape=(), dtype=tf.resource, name=None)\n",
            "  138411406724960: TensorSpec(shape=(), dtype=tf.resource, name=None)\n",
            "  138411406730416: TensorSpec(shape=(), dtype=tf.resource, name=None)\n",
            "  138411406730064: TensorSpec(shape=(), dtype=tf.resource, name=None)\n",
            "  138411406733760: TensorSpec(shape=(), dtype=tf.resource, name=None)\n",
            "  138411406731120: TensorSpec(shape=(), dtype=tf.resource, name=None)\n",
            "  138411406732000: TensorSpec(shape=(), dtype=tf.resource, name=None)\n",
            "  138411406869072: TensorSpec(shape=(), dtype=tf.resource, name=None)\n",
            "  138411406869600: TensorSpec(shape=(), dtype=tf.resource, name=None)\n",
            "  138411406871712: TensorSpec(shape=(), dtype=tf.resource, name=None)\n",
            "  138411406870656: TensorSpec(shape=(), dtype=tf.resource, name=None)\n",
            "  138411406871536: TensorSpec(shape=(), dtype=tf.resource, name=None)\n",
            "  138411406876640: TensorSpec(shape=(), dtype=tf.resource, name=None)\n",
            "  138411406876288: TensorSpec(shape=(), dtype=tf.resource, name=None)\n",
            "  138411406880336: TensorSpec(shape=(), dtype=tf.resource, name=None)\n",
            "  138411406877696: TensorSpec(shape=(), dtype=tf.resource, name=None)\n",
            "  138411406878576: TensorSpec(shape=(), dtype=tf.resource, name=None)\n",
            "  138411406882800: TensorSpec(shape=(), dtype=tf.resource, name=None)\n",
            "  138411406884560: TensorSpec(shape=(), dtype=tf.resource, name=None)\n",
            "  138411406919632: TensorSpec(shape=(), dtype=tf.resource, name=None)\n",
            "  138411406883328: TensorSpec(shape=(), dtype=tf.resource, name=None)\n",
            "  138411406882976: TensorSpec(shape=(), dtype=tf.resource, name=None)\n",
            "  138411406922800: TensorSpec(shape=(), dtype=tf.resource, name=None)\n",
            "  138411406922272: TensorSpec(shape=(), dtype=tf.resource, name=None)\n",
            "  138411406926144: TensorSpec(shape=(), dtype=tf.resource, name=None)\n",
            "  138411406923504: TensorSpec(shape=(), dtype=tf.resource, name=None)\n",
            "  138411406924384: TensorSpec(shape=(), dtype=tf.resource, name=None)\n",
            "  138411406929488: TensorSpec(shape=(), dtype=tf.resource, name=None)\n",
            "  138411406929136: TensorSpec(shape=(), dtype=tf.resource, name=None)\n",
            "  138411406933184: TensorSpec(shape=(), dtype=tf.resource, name=None)\n",
            "  138411406930544: TensorSpec(shape=(), dtype=tf.resource, name=None)\n",
            "  138411406931424: TensorSpec(shape=(), dtype=tf.resource, name=None)\n",
            "  138411407035024: TensorSpec(shape=(), dtype=tf.resource, name=None)\n",
            "  138411407034672: TensorSpec(shape=(), dtype=tf.resource, name=None)\n",
            "  138411407038720: TensorSpec(shape=(), dtype=tf.resource, name=None)\n",
            "  138411407036080: TensorSpec(shape=(), dtype=tf.resource, name=None)\n",
            "  138411407036960: TensorSpec(shape=(), dtype=tf.resource, name=None)\n",
            "  138411407042416: TensorSpec(shape=(), dtype=tf.resource, name=None)\n",
            "  138411407036432: TensorSpec(shape=(), dtype=tf.resource, name=None)\n",
            "  138411407045760: TensorSpec(shape=(), dtype=tf.resource, name=None)\n",
            "  138411407043120: TensorSpec(shape=(), dtype=tf.resource, name=None)\n",
            "  138411407044000: TensorSpec(shape=(), dtype=tf.resource, name=None)\n",
            "  138411407036784: TensorSpec(shape=(), dtype=tf.resource, name=None)\n",
            "  138411402986416: TensorSpec(shape=(), dtype=tf.resource, name=None)\n",
            "  138411402992752: TensorSpec(shape=(), dtype=tf.resource, name=None)\n",
            "  138411402987296: TensorSpec(shape=(), dtype=tf.resource, name=None)\n",
            "  138411402987648: TensorSpec(shape=(), dtype=tf.resource, name=None)\n",
            "  138411403000496: TensorSpec(shape=(), dtype=tf.resource, name=None)\n",
            "  138411403072208: TensorSpec(shape=(), dtype=tf.resource, name=None)\n",
            "  138411403070272: TensorSpec(shape=(), dtype=tf.resource, name=None)\n",
            "  138411403067632: TensorSpec(shape=(), dtype=tf.resource, name=None)\n",
            "  138411403069568: TensorSpec(shape=(), dtype=tf.resource, name=None)\n",
            "  138411403075904: TensorSpec(shape=(), dtype=tf.resource, name=None)\n",
            "  138411403075376: TensorSpec(shape=(), dtype=tf.resource, name=None)\n",
            "  138411403079248: TensorSpec(shape=(), dtype=tf.resource, name=None)\n",
            "  138411403076608: TensorSpec(shape=(), dtype=tf.resource, name=None)\n",
            "  138411403077488: TensorSpec(shape=(), dtype=tf.resource, name=None)\n",
            "  138411403082592: TensorSpec(shape=(), dtype=tf.resource, name=None)\n",
            "  138411411174704: TensorSpec(shape=(), dtype=tf.resource, name=None)\n",
            "  138411411169072: TensorSpec(shape=(), dtype=tf.resource, name=None)\n",
            "  138411436201360: TensorSpec(shape=(), dtype=tf.resource, name=None)\n",
            "  138411411163616: TensorSpec(shape=(), dtype=tf.resource, name=None)\n",
            "  138411411261568: TensorSpec(shape=(), dtype=tf.resource, name=None)\n",
            "  138411402991520: TensorSpec(shape=(), dtype=tf.resource, name=None)\n",
            "  138411402990640: TensorSpec(shape=(), dtype=tf.resource, name=None)\n",
            "  138411408329712: TensorSpec(shape=(), dtype=tf.resource, name=None)\n",
            "  138411408332176: TensorSpec(shape=(), dtype=tf.resource, name=None)\n",
            "  138411403238688: TensorSpec(shape=(), dtype=tf.resource, name=None)\n",
            "  138411403240976: TensorSpec(shape=(), dtype=tf.resource, name=None)\n",
            "  138411403243088: TensorSpec(shape=(), dtype=tf.resource, name=None)\n",
            "  138411403245376: TensorSpec(shape=(), dtype=tf.resource, name=None)\n"
          ]
        },
        {
          "output_type": "execute_result",
          "data": {
            "text/plain": [
              "9523236"
            ]
          },
          "metadata": {},
          "execution_count": 25
        }
      ]
    },
    {
      "cell_type": "code",
      "source": [
        "converter2 = tf.lite.TFLiteConverter.from_keras_model(model2)\n",
        "converter2.optimizations = [tf.lite.Optimize.DEFAULT]\n",
        "tflite_quant_model = converter2.convert()\n",
        "open(\"/content/miniproyecto3_model.tflite\",\"wb\").write(tflite_quant_model)"
      ],
      "metadata": {
        "id": "LfTaOY4ETs6s",
        "colab": {
          "base_uri": "https://localhost:8080/"
        },
        "outputId": "7ada4cb2-6ed1-4a63-d9ee-9cfe0b7bd779"
      },
      "execution_count": null,
      "outputs": [
        {
          "output_type": "stream",
          "name": "stdout",
          "text": [
            "Saved artifact at '/tmp/tmpsvuvltoe'. The following endpoints are available:\n",
            "\n",
            "* Endpoint 'serve'\n",
            "  args_0 (POSITIONAL_ONLY): TensorSpec(shape=(None, 128, 128, 3), dtype=tf.float32, name='keras_tensor_154')\n",
            "Output Type:\n",
            "  TensorSpec(shape=(None, 3), dtype=tf.float32, name=None)\n",
            "Captures:\n",
            "  138411408330416: TensorSpec(shape=(), dtype=tf.resource, name=None)\n",
            "  138411408332528: TensorSpec(shape=(), dtype=tf.resource, name=None)\n",
            "  138411408335168: TensorSpec(shape=(), dtype=tf.resource, name=None)\n",
            "  138411408334112: TensorSpec(shape=(), dtype=tf.resource, name=None)\n",
            "  138411408333232: TensorSpec(shape=(), dtype=tf.resource, name=None)\n",
            "  138411408339568: TensorSpec(shape=(), dtype=tf.resource, name=None)\n",
            "  138411408339216: TensorSpec(shape=(), dtype=tf.resource, name=None)\n",
            "  138411408340096: TensorSpec(shape=(), dtype=tf.resource, name=None)\n",
            "  138411408340272: TensorSpec(shape=(), dtype=tf.resource, name=None)\n",
            "  138411408341152: TensorSpec(shape=(), dtype=tf.resource, name=None)\n",
            "  138411408379216: TensorSpec(shape=(), dtype=tf.resource, name=None)\n",
            "  138411408378864: TensorSpec(shape=(), dtype=tf.resource, name=None)\n",
            "  138411408382912: TensorSpec(shape=(), dtype=tf.resource, name=None)\n",
            "  138411408380272: TensorSpec(shape=(), dtype=tf.resource, name=None)\n",
            "  138411408381152: TensorSpec(shape=(), dtype=tf.resource, name=None)\n",
            "  138411408385376: TensorSpec(shape=(), dtype=tf.resource, name=None)\n",
            "  138411408385024: TensorSpec(shape=(), dtype=tf.resource, name=None)\n",
            "  138411408388720: TensorSpec(shape=(), dtype=tf.resource, name=None)\n",
            "  138411408386080: TensorSpec(shape=(), dtype=tf.resource, name=None)\n",
            "  138411408386960: TensorSpec(shape=(), dtype=tf.resource, name=None)\n",
            "  138411408458320: TensorSpec(shape=(), dtype=tf.resource, name=None)\n",
            "  138411408458848: TensorSpec(shape=(), dtype=tf.resource, name=None)\n",
            "  138411408460960: TensorSpec(shape=(), dtype=tf.resource, name=None)\n",
            "  138411408459904: TensorSpec(shape=(), dtype=tf.resource, name=None)\n",
            "  138411408460784: TensorSpec(shape=(), dtype=tf.resource, name=None)\n",
            "  138411408465888: TensorSpec(shape=(), dtype=tf.resource, name=None)\n",
            "  138411408465536: TensorSpec(shape=(), dtype=tf.resource, name=None)\n",
            "  138411408469584: TensorSpec(shape=(), dtype=tf.resource, name=None)\n",
            "  138411408466944: TensorSpec(shape=(), dtype=tf.resource, name=None)\n",
            "  138411408467824: TensorSpec(shape=(), dtype=tf.resource, name=None)\n",
            "  138411408472048: TensorSpec(shape=(), dtype=tf.resource, name=None)\n",
            "  138411408473808: TensorSpec(shape=(), dtype=tf.resource, name=None)\n",
            "  138411408525264: TensorSpec(shape=(), dtype=tf.resource, name=None)\n",
            "  138411408472576: TensorSpec(shape=(), dtype=tf.resource, name=None)\n",
            "  138411408472224: TensorSpec(shape=(), dtype=tf.resource, name=None)\n",
            "  138411408528432: TensorSpec(shape=(), dtype=tf.resource, name=None)\n",
            "  138411408527904: TensorSpec(shape=(), dtype=tf.resource, name=None)\n",
            "  138411408327072: TensorSpec(shape=(), dtype=tf.resource, name=None)\n",
            "  138411408529136: TensorSpec(shape=(), dtype=tf.resource, name=None)\n",
            "  138411408530016: TensorSpec(shape=(), dtype=tf.resource, name=None)\n",
            "  138411411260688: TensorSpec(shape=(), dtype=tf.resource, name=None)\n",
            "  138411411261040: TensorSpec(shape=(), dtype=tf.resource, name=None)\n",
            "  138411411271248: TensorSpec(shape=(), dtype=tf.resource, name=None)\n",
            "  138411411271424: TensorSpec(shape=(), dtype=tf.resource, name=None)\n",
            "  138411411272304: TensorSpec(shape=(), dtype=tf.resource, name=None)\n",
            "  138411408533184: TensorSpec(shape=(), dtype=tf.resource, name=None)\n",
            "  138411408532832: TensorSpec(shape=(), dtype=tf.resource, name=None)\n",
            "  138411408536528: TensorSpec(shape=(), dtype=tf.resource, name=None)\n",
            "  138411408533888: TensorSpec(shape=(), dtype=tf.resource, name=None)\n",
            "  138411408534768: TensorSpec(shape=(), dtype=tf.resource, name=None)\n",
            "  138411408704960: TensorSpec(shape=(), dtype=tf.resource, name=None)\n",
            "  138411408704608: TensorSpec(shape=(), dtype=tf.resource, name=None)\n",
            "  138411408707248: TensorSpec(shape=(), dtype=tf.resource, name=None)\n",
            "  138411408706192: TensorSpec(shape=(), dtype=tf.resource, name=None)\n",
            "  138411408707072: TensorSpec(shape=(), dtype=tf.resource, name=None)\n",
            "  138411408712176: TensorSpec(shape=(), dtype=tf.resource, name=None)\n",
            "  138411408711824: TensorSpec(shape=(), dtype=tf.resource, name=None)\n",
            "  138411408715872: TensorSpec(shape=(), dtype=tf.resource, name=None)\n",
            "  138411408713232: TensorSpec(shape=(), dtype=tf.resource, name=None)\n",
            "  138411408714112: TensorSpec(shape=(), dtype=tf.resource, name=None)\n",
            "  138411408718336: TensorSpec(shape=(), dtype=tf.resource, name=None)\n",
            "  138411408769440: TensorSpec(shape=(), dtype=tf.resource, name=None)\n",
            "  138411408771552: TensorSpec(shape=(), dtype=tf.resource, name=None)\n",
            "  138411408719568: TensorSpec(shape=(), dtype=tf.resource, name=None)\n",
            "  138411408769968: TensorSpec(shape=(), dtype=tf.resource, name=None)\n",
            "  138411408774720: TensorSpec(shape=(), dtype=tf.resource, name=None)\n",
            "  138411408774192: TensorSpec(shape=(), dtype=tf.resource, name=None)\n",
            "  138411408778064: TensorSpec(shape=(), dtype=tf.resource, name=None)\n",
            "  138411408775424: TensorSpec(shape=(), dtype=tf.resource, name=None)\n",
            "  138411408776304: TensorSpec(shape=(), dtype=tf.resource, name=None)\n",
            "  138411408781408: TensorSpec(shape=(), dtype=tf.resource, name=None)\n",
            "  138411408769088: TensorSpec(shape=(), dtype=tf.resource, name=None)\n",
            "  138411408785104: TensorSpec(shape=(), dtype=tf.resource, name=None)\n",
            "  138411408782464: TensorSpec(shape=(), dtype=tf.resource, name=None)\n",
            "  138411408783344: TensorSpec(shape=(), dtype=tf.resource, name=None)\n",
            "  138411408886944: TensorSpec(shape=(), dtype=tf.resource, name=None)\n",
            "  138411408886592: TensorSpec(shape=(), dtype=tf.resource, name=None)\n",
            "  138411408890640: TensorSpec(shape=(), dtype=tf.resource, name=None)\n",
            "  138411408888000: TensorSpec(shape=(), dtype=tf.resource, name=None)\n",
            "  138411408888880: TensorSpec(shape=(), dtype=tf.resource, name=None)\n",
            "  138411408894336: TensorSpec(shape=(), dtype=tf.resource, name=None)\n",
            "  138411408888352: TensorSpec(shape=(), dtype=tf.resource, name=None)\n",
            "  138411408897680: TensorSpec(shape=(), dtype=tf.resource, name=None)\n",
            "  138411408895040: TensorSpec(shape=(), dtype=tf.resource, name=None)\n",
            "  138411408895920: TensorSpec(shape=(), dtype=tf.resource, name=None)\n",
            "  138411408966400: TensorSpec(shape=(), dtype=tf.resource, name=None)\n",
            "  138411408966928: TensorSpec(shape=(), dtype=tf.resource, name=None)\n",
            "  138411408970448: TensorSpec(shape=(), dtype=tf.resource, name=None)\n",
            "  138411408967984: TensorSpec(shape=(), dtype=tf.resource, name=None)\n",
            "  138411408968336: TensorSpec(shape=(), dtype=tf.resource, name=None)\n",
            "  138411408974144: TensorSpec(shape=(), dtype=tf.resource, name=None)\n",
            "  138411408973792: TensorSpec(shape=(), dtype=tf.resource, name=None)\n",
            "  138411408977488: TensorSpec(shape=(), dtype=tf.resource, name=None)\n",
            "  138411408974848: TensorSpec(shape=(), dtype=tf.resource, name=None)\n",
            "  138411408975728: TensorSpec(shape=(), dtype=tf.resource, name=None)\n",
            "  138411408977840: TensorSpec(shape=(), dtype=tf.resource, name=None)\n",
            "  138411409080912: TensorSpec(shape=(), dtype=tf.resource, name=None)\n",
            "  138411409082672: TensorSpec(shape=(), dtype=tf.resource, name=None)\n",
            "  138411409081968: TensorSpec(shape=(), dtype=tf.resource, name=None)\n",
            "  138411409082848: TensorSpec(shape=(), dtype=tf.resource, name=None)\n",
            "  138411409087600: TensorSpec(shape=(), dtype=tf.resource, name=None)\n",
            "  138411409087248: TensorSpec(shape=(), dtype=tf.resource, name=None)\n",
            "  138411409091296: TensorSpec(shape=(), dtype=tf.resource, name=None)\n",
            "  138411409088656: TensorSpec(shape=(), dtype=tf.resource, name=None)\n",
            "  138411409089536: TensorSpec(shape=(), dtype=tf.resource, name=None)\n",
            "  138411409093760: TensorSpec(shape=(), dtype=tf.resource, name=None)\n",
            "  138411409089360: TensorSpec(shape=(), dtype=tf.resource, name=None)\n",
            "  138411409094288: TensorSpec(shape=(), dtype=tf.resource, name=None)\n",
            "  138411409094464: TensorSpec(shape=(), dtype=tf.resource, name=None)\n",
            "  138411409095344: TensorSpec(shape=(), dtype=tf.resource, name=None)\n",
            "  138411409133760: TensorSpec(shape=(), dtype=tf.resource, name=None)\n",
            "  138411409133232: TensorSpec(shape=(), dtype=tf.resource, name=None)\n",
            "  138411409137104: TensorSpec(shape=(), dtype=tf.resource, name=None)\n",
            "  138411409134464: TensorSpec(shape=(), dtype=tf.resource, name=None)\n",
            "  138411409135344: TensorSpec(shape=(), dtype=tf.resource, name=None)\n",
            "  138411409140448: TensorSpec(shape=(), dtype=tf.resource, name=None)\n",
            "  138411409140096: TensorSpec(shape=(), dtype=tf.resource, name=None)\n",
            "  138411409144144: TensorSpec(shape=(), dtype=tf.resource, name=None)\n",
            "  138411409141504: TensorSpec(shape=(), dtype=tf.resource, name=None)\n",
            "  138411409142384: TensorSpec(shape=(), dtype=tf.resource, name=None)\n",
            "  138411409245984: TensorSpec(shape=(), dtype=tf.resource, name=None)\n",
            "  138411409245632: TensorSpec(shape=(), dtype=tf.resource, name=None)\n",
            "  138411409249680: TensorSpec(shape=(), dtype=tf.resource, name=None)\n",
            "  138411409247040: TensorSpec(shape=(), dtype=tf.resource, name=None)\n",
            "  138411409247920: TensorSpec(shape=(), dtype=tf.resource, name=None)\n",
            "  138411409253376: TensorSpec(shape=(), dtype=tf.resource, name=None)\n",
            "  138411409252848: TensorSpec(shape=(), dtype=tf.resource, name=None)\n",
            "  138411409256720: TensorSpec(shape=(), dtype=tf.resource, name=None)\n",
            "  138411409254080: TensorSpec(shape=(), dtype=tf.resource, name=None)\n",
            "  138411409254960: TensorSpec(shape=(), dtype=tf.resource, name=None)\n",
            "  138411409259184: TensorSpec(shape=(), dtype=tf.resource, name=None)\n",
            "  138411406216528: TensorSpec(shape=(), dtype=tf.resource, name=None)\n",
            "  138411406213888: TensorSpec(shape=(), dtype=tf.resource, name=None)\n",
            "  138411406214240: TensorSpec(shape=(), dtype=tf.resource, name=None)\n",
            "  138411406215472: TensorSpec(shape=(), dtype=tf.resource, name=None)\n",
            "  138411406219872: TensorSpec(shape=(), dtype=tf.resource, name=None)\n",
            "  138411406219520: TensorSpec(shape=(), dtype=tf.resource, name=None)\n",
            "  138411406223568: TensorSpec(shape=(), dtype=tf.resource, name=None)\n",
            "  138411406220928: TensorSpec(shape=(), dtype=tf.resource, name=None)\n",
            "  138411406221808: TensorSpec(shape=(), dtype=tf.resource, name=None)\n",
            "  138411406227264: TensorSpec(shape=(), dtype=tf.resource, name=None)\n",
            "  138411406227440: TensorSpec(shape=(), dtype=tf.resource, name=None)\n",
            "  138411406279952: TensorSpec(shape=(), dtype=tf.resource, name=None)\n",
            "  138411406227792: TensorSpec(shape=(), dtype=tf.resource, name=None)\n",
            "  138411406226560: TensorSpec(shape=(), dtype=tf.resource, name=None)\n",
            "  138411406283296: TensorSpec(shape=(), dtype=tf.resource, name=None)\n",
            "  138411406282944: TensorSpec(shape=(), dtype=tf.resource, name=None)\n",
            "  138411406286992: TensorSpec(shape=(), dtype=tf.resource, name=None)\n",
            "  138411406284352: TensorSpec(shape=(), dtype=tf.resource, name=None)\n",
            "  138411406285232: TensorSpec(shape=(), dtype=tf.resource, name=None)\n",
            "  138411406290688: TensorSpec(shape=(), dtype=tf.resource, name=None)\n",
            "  138411406286112: TensorSpec(shape=(), dtype=tf.resource, name=None)\n",
            "  138411406294032: TensorSpec(shape=(), dtype=tf.resource, name=None)\n",
            "  138411406291392: TensorSpec(shape=(), dtype=tf.resource, name=None)\n",
            "  138411406292272: TensorSpec(shape=(), dtype=tf.resource, name=None)\n",
            "  138411406362928: TensorSpec(shape=(), dtype=tf.resource, name=None)\n",
            "  138411406362576: TensorSpec(shape=(), dtype=tf.resource, name=None)\n",
            "  138411406366800: TensorSpec(shape=(), dtype=tf.resource, name=None)\n",
            "  138411406364160: TensorSpec(shape=(), dtype=tf.resource, name=None)\n",
            "  138411406365040: TensorSpec(shape=(), dtype=tf.resource, name=None)\n",
            "  138411406370144: TensorSpec(shape=(), dtype=tf.resource, name=None)\n",
            "  138411406369792: TensorSpec(shape=(), dtype=tf.resource, name=None)\n",
            "  138411406373840: TensorSpec(shape=(), dtype=tf.resource, name=None)\n",
            "  138411406371200: TensorSpec(shape=(), dtype=tf.resource, name=None)\n",
            "  138411406372080: TensorSpec(shape=(), dtype=tf.resource, name=None)\n",
            "  138411406376304: TensorSpec(shape=(), dtype=tf.resource, name=None)\n",
            "  138411406510912: TensorSpec(shape=(), dtype=tf.resource, name=None)\n",
            "  138411406508448: TensorSpec(shape=(), dtype=tf.resource, name=None)\n",
            "  138411406509152: TensorSpec(shape=(), dtype=tf.resource, name=None)\n",
            "  138411406508096: TensorSpec(shape=(), dtype=tf.resource, name=None)\n",
            "  138411406514608: TensorSpec(shape=(), dtype=tf.resource, name=None)\n",
            "  138411406514080: TensorSpec(shape=(), dtype=tf.resource, name=None)\n",
            "  138411406517952: TensorSpec(shape=(), dtype=tf.resource, name=None)\n",
            "  138411406515312: TensorSpec(shape=(), dtype=tf.resource, name=None)\n",
            "  138411406516192: TensorSpec(shape=(), dtype=tf.resource, name=None)\n",
            "  138411406521296: TensorSpec(shape=(), dtype=tf.resource, name=None)\n",
            "  138411406508976: TensorSpec(shape=(), dtype=tf.resource, name=None)\n",
            "  138411406522176: TensorSpec(shape=(), dtype=tf.resource, name=None)\n",
            "  138411406522352: TensorSpec(shape=(), dtype=tf.resource, name=None)\n",
            "  138411406523232: TensorSpec(shape=(), dtype=tf.resource, name=None)\n",
            "  138411406594064: TensorSpec(shape=(), dtype=tf.resource, name=None)\n",
            "  138411406593712: TensorSpec(shape=(), dtype=tf.resource, name=None)\n",
            "  138411406597760: TensorSpec(shape=(), dtype=tf.resource, name=None)\n",
            "  138411406595120: TensorSpec(shape=(), dtype=tf.resource, name=None)\n",
            "  138411406596000: TensorSpec(shape=(), dtype=tf.resource, name=None)\n",
            "  138411406601456: TensorSpec(shape=(), dtype=tf.resource, name=None)\n",
            "  138411406592480: TensorSpec(shape=(), dtype=tf.resource, name=None)\n",
            "  138411406604800: TensorSpec(shape=(), dtype=tf.resource, name=None)\n",
            "  138411406602160: TensorSpec(shape=(), dtype=tf.resource, name=None)\n",
            "  138411406603040: TensorSpec(shape=(), dtype=tf.resource, name=None)\n",
            "  138411406723024: TensorSpec(shape=(), dtype=tf.resource, name=None)\n",
            "  138411406722672: TensorSpec(shape=(), dtype=tf.resource, name=None)\n",
            "  138411406726720: TensorSpec(shape=(), dtype=tf.resource, name=None)\n",
            "  138411406724080: TensorSpec(shape=(), dtype=tf.resource, name=None)\n",
            "  138411406724960: TensorSpec(shape=(), dtype=tf.resource, name=None)\n",
            "  138411406730416: TensorSpec(shape=(), dtype=tf.resource, name=None)\n",
            "  138411406730064: TensorSpec(shape=(), dtype=tf.resource, name=None)\n",
            "  138411406733760: TensorSpec(shape=(), dtype=tf.resource, name=None)\n",
            "  138411406731120: TensorSpec(shape=(), dtype=tf.resource, name=None)\n",
            "  138411406732000: TensorSpec(shape=(), dtype=tf.resource, name=None)\n",
            "  138411406869072: TensorSpec(shape=(), dtype=tf.resource, name=None)\n",
            "  138411406869600: TensorSpec(shape=(), dtype=tf.resource, name=None)\n",
            "  138411406871712: TensorSpec(shape=(), dtype=tf.resource, name=None)\n",
            "  138411406870656: TensorSpec(shape=(), dtype=tf.resource, name=None)\n",
            "  138411406871536: TensorSpec(shape=(), dtype=tf.resource, name=None)\n",
            "  138411406876640: TensorSpec(shape=(), dtype=tf.resource, name=None)\n",
            "  138411406876288: TensorSpec(shape=(), dtype=tf.resource, name=None)\n",
            "  138411406880336: TensorSpec(shape=(), dtype=tf.resource, name=None)\n",
            "  138411406877696: TensorSpec(shape=(), dtype=tf.resource, name=None)\n",
            "  138411406878576: TensorSpec(shape=(), dtype=tf.resource, name=None)\n",
            "  138411406882800: TensorSpec(shape=(), dtype=tf.resource, name=None)\n",
            "  138411406884560: TensorSpec(shape=(), dtype=tf.resource, name=None)\n",
            "  138411406919632: TensorSpec(shape=(), dtype=tf.resource, name=None)\n",
            "  138411406883328: TensorSpec(shape=(), dtype=tf.resource, name=None)\n",
            "  138411406882976: TensorSpec(shape=(), dtype=tf.resource, name=None)\n",
            "  138411406922800: TensorSpec(shape=(), dtype=tf.resource, name=None)\n",
            "  138411406922272: TensorSpec(shape=(), dtype=tf.resource, name=None)\n",
            "  138411406926144: TensorSpec(shape=(), dtype=tf.resource, name=None)\n",
            "  138411406923504: TensorSpec(shape=(), dtype=tf.resource, name=None)\n",
            "  138411406924384: TensorSpec(shape=(), dtype=tf.resource, name=None)\n",
            "  138411406929488: TensorSpec(shape=(), dtype=tf.resource, name=None)\n",
            "  138411406929136: TensorSpec(shape=(), dtype=tf.resource, name=None)\n",
            "  138411406933184: TensorSpec(shape=(), dtype=tf.resource, name=None)\n",
            "  138411406930544: TensorSpec(shape=(), dtype=tf.resource, name=None)\n",
            "  138411406931424: TensorSpec(shape=(), dtype=tf.resource, name=None)\n",
            "  138411407035024: TensorSpec(shape=(), dtype=tf.resource, name=None)\n",
            "  138411407034672: TensorSpec(shape=(), dtype=tf.resource, name=None)\n",
            "  138411407038720: TensorSpec(shape=(), dtype=tf.resource, name=None)\n",
            "  138411407036080: TensorSpec(shape=(), dtype=tf.resource, name=None)\n",
            "  138411407036960: TensorSpec(shape=(), dtype=tf.resource, name=None)\n",
            "  138411407042416: TensorSpec(shape=(), dtype=tf.resource, name=None)\n",
            "  138411407036432: TensorSpec(shape=(), dtype=tf.resource, name=None)\n",
            "  138411407045760: TensorSpec(shape=(), dtype=tf.resource, name=None)\n",
            "  138411407043120: TensorSpec(shape=(), dtype=tf.resource, name=None)\n",
            "  138411407044000: TensorSpec(shape=(), dtype=tf.resource, name=None)\n",
            "  138411407036784: TensorSpec(shape=(), dtype=tf.resource, name=None)\n",
            "  138411402986416: TensorSpec(shape=(), dtype=tf.resource, name=None)\n",
            "  138411402992752: TensorSpec(shape=(), dtype=tf.resource, name=None)\n",
            "  138411402987296: TensorSpec(shape=(), dtype=tf.resource, name=None)\n",
            "  138411402987648: TensorSpec(shape=(), dtype=tf.resource, name=None)\n",
            "  138411403000496: TensorSpec(shape=(), dtype=tf.resource, name=None)\n",
            "  138411403072208: TensorSpec(shape=(), dtype=tf.resource, name=None)\n",
            "  138411403070272: TensorSpec(shape=(), dtype=tf.resource, name=None)\n",
            "  138411403067632: TensorSpec(shape=(), dtype=tf.resource, name=None)\n",
            "  138411403069568: TensorSpec(shape=(), dtype=tf.resource, name=None)\n",
            "  138411403075904: TensorSpec(shape=(), dtype=tf.resource, name=None)\n",
            "  138411403075376: TensorSpec(shape=(), dtype=tf.resource, name=None)\n",
            "  138411403079248: TensorSpec(shape=(), dtype=tf.resource, name=None)\n",
            "  138411403076608: TensorSpec(shape=(), dtype=tf.resource, name=None)\n",
            "  138411403077488: TensorSpec(shape=(), dtype=tf.resource, name=None)\n",
            "  138411403082592: TensorSpec(shape=(), dtype=tf.resource, name=None)\n",
            "  138411411174704: TensorSpec(shape=(), dtype=tf.resource, name=None)\n",
            "  138411411169072: TensorSpec(shape=(), dtype=tf.resource, name=None)\n",
            "  138411436201360: TensorSpec(shape=(), dtype=tf.resource, name=None)\n",
            "  138411411163616: TensorSpec(shape=(), dtype=tf.resource, name=None)\n",
            "  138411411261568: TensorSpec(shape=(), dtype=tf.resource, name=None)\n",
            "  138411402991520: TensorSpec(shape=(), dtype=tf.resource, name=None)\n",
            "  138411402990640: TensorSpec(shape=(), dtype=tf.resource, name=None)\n",
            "  138411408329712: TensorSpec(shape=(), dtype=tf.resource, name=None)\n",
            "  138411408332176: TensorSpec(shape=(), dtype=tf.resource, name=None)\n",
            "  138411403238688: TensorSpec(shape=(), dtype=tf.resource, name=None)\n",
            "  138411403240976: TensorSpec(shape=(), dtype=tf.resource, name=None)\n",
            "  138411403243088: TensorSpec(shape=(), dtype=tf.resource, name=None)\n",
            "  138411403245376: TensorSpec(shape=(), dtype=tf.resource, name=None)\n"
          ]
        },
        {
          "output_type": "execute_result",
          "data": {
            "text/plain": [
              "2675256"
            ]
          },
          "metadata": {},
          "execution_count": 26
        }
      ]
    },
    {
      "cell_type": "code",
      "source": [
        "from google.colab import files\n",
        "files.download('/content/miniproyecto3_model.tflite')"
      ],
      "metadata": {
        "id": "DiAIQWP1R38I",
        "colab": {
          "base_uri": "https://localhost:8080/",
          "height": 34
        },
        "outputId": "e1a933ba-8d28-412d-ae65-a2698295e613"
      },
      "execution_count": null,
      "outputs": [
        {
          "output_type": "display_data",
          "data": {
            "text/plain": [
              "<IPython.core.display.Javascript object>"
            ],
            "application/javascript": [
              "\n",
              "    async function download(id, filename, size) {\n",
              "      if (!google.colab.kernel.accessAllowed) {\n",
              "        return;\n",
              "      }\n",
              "      const div = document.createElement('div');\n",
              "      const label = document.createElement('label');\n",
              "      label.textContent = `Downloading \"${filename}\": `;\n",
              "      div.appendChild(label);\n",
              "      const progress = document.createElement('progress');\n",
              "      progress.max = size;\n",
              "      div.appendChild(progress);\n",
              "      document.body.appendChild(div);\n",
              "\n",
              "      const buffers = [];\n",
              "      let downloaded = 0;\n",
              "\n",
              "      const channel = await google.colab.kernel.comms.open(id);\n",
              "      // Send a message to notify the kernel that we're ready.\n",
              "      channel.send({})\n",
              "\n",
              "      for await (const message of channel.messages) {\n",
              "        // Send a message to notify the kernel that we're ready.\n",
              "        channel.send({})\n",
              "        if (message.buffers) {\n",
              "          for (const buffer of message.buffers) {\n",
              "            buffers.push(buffer);\n",
              "            downloaded += buffer.byteLength;\n",
              "            progress.value = downloaded;\n",
              "          }\n",
              "        }\n",
              "      }\n",
              "      const blob = new Blob(buffers, {type: 'application/binary'});\n",
              "      const a = document.createElement('a');\n",
              "      a.href = window.URL.createObjectURL(blob);\n",
              "      a.download = filename;\n",
              "      div.appendChild(a);\n",
              "      a.click();\n",
              "      div.remove();\n",
              "    }\n",
              "  "
            ]
          },
          "metadata": {}
        },
        {
          "output_type": "display_data",
          "data": {
            "text/plain": [
              "<IPython.core.display.Javascript object>"
            ],
            "application/javascript": [
              "download(\"download_4e303343-ae74-4771-8541-0a254e2507c5\", \"miniproyecto3_model.tflite\", 2675256)"
            ]
          },
          "metadata": {}
        }
      ]
    }
  ]
}